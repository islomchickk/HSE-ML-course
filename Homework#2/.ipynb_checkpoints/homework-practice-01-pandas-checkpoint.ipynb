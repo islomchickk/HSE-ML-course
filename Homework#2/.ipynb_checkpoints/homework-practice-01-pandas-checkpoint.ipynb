{
 "cells": [
  {
   "cell_type": "markdown",
   "metadata": {
    "id": "HcF9My_FhLuk"
   },
   "source": [
    "## Машинное обучение 1, ПМИ ФКН ВШЭ\n",
    "\n",
    "## Практическое домашнее задание 1\n",
    "\n",
    "### Общая информация\n",
    "\n",
    "Дата выдачи: 09.09.2022\n",
    "\n",
    "Мягкий дедлайн: 23:59MSK 22.09.2022\n",
    "\n",
    "Жесткий дедлайн: 23:59MSK 29.09.2022"
   ]
  },
  {
   "cell_type": "markdown",
   "metadata": {
    "id": "G64TptyJhLuo"
   },
   "source": [
    "### О задании\n",
    "\n",
    "Задание состоит из двух разделов, посвященных работе с табличными данными с помощью библиотеки pandas и визуализации с помощью matplotlib. В первом разделе вам предстоит выполнить базовые задания с помощью вышеуказанных библиотек, а во втором распределить студентов по курсам. Баллы даются за выполнение отдельных пунктов. Задачи в рамках одного раздела рекомендуется решать в том порядке, в котором они даны в задании.\n",
    "\n",
    "Задание направлено на освоение jupyter notebook (будет использоваться в дальнейших заданиях), библиотек pandas и matplotlib.\n",
    "\n",
    "### Оценивание и штрафы\n",
    "Каждая из задач имеет определенную «стоимость» (указана в скобках около задачи). Максимально допустимая оценка за работу — 10 баллов.\n",
    "\n",
    "Сдавать задание после жёсткого дедлайна нельзя. При выставлении неполного балла за задание в связи с наличием ошибок на усмотрение проверяющего предусмотрена возможность исправить работу на указанных в ответном письме условиях.\n",
    "\n",
    "Задание выполняется самостоятельно. «Похожие» решения считаются плагиатом и все задействованные студенты (в том числе те, у кого списали) не могут получить за него больше 0 баллов (подробнее о плагиате см. на странице курса). Если вы нашли решение какого-то из заданий (или его часть) в открытом источнике, необходимо указать ссылку на этот источник (скорее всего вы будете не единственным, кто это нашел, поэтому чтобы исключить подозрение в плагиате, необходима ссылка на источник).\n",
    "\n",
    "### Формат сдачи\n",
    "Задания сдаются через систему Anytask. Инвайт можно получить у семинариста или ассистента. Присылать необходимо ноутбук с выполненным заданием. Сам ноутбук называйте в формате homework-practice-01-pandas-Username.ipynb, где Username — ваша фамилия.\n",
    "\n",
    "Для удобства проверки самостоятельно посчитайте свою максимальную оценку (исходя из набора решенных задач) и укажите ниже.\n",
    "\n",
    "Оценка: xx."
   ]
  },
  {
   "cell_type": "markdown",
   "metadata": {
    "id": "BaXlfHE_hLup"
   },
   "source": [
    "## 0. Введение"
   ]
  },
  {
   "cell_type": "markdown",
   "metadata": {
    "id": "wirAvJNxhLup"
   },
   "source": [
    "Сейчас мы находимся в jupyter-ноутбуке (или ipython-ноутбуке). Это удобная среда для написания кода, проведения экспериментов, изучения данных, построения визуализаций и других нужд, не связанных с написанием production-кода. \n",
    "\n",
    "Ноутбук состоит из ячеек, каждая из которых может быть либо ячейкой с кодом, либо ячейкой с текстом размеченным и неразмеченным. Текст поддерживает markdown-разметку и формулы в Latex.\n",
    "\n",
    "Для работы с содержимым ячейки используется *режим редактирования* (*Edit mode*, включается нажатием клавиши **Enter** после выбора ячейки), а для навигации между ячейками искользуется *командный режим* (*Command mode*, включается нажатием клавиши **Esc**). Тип ячейки можно задать в командном режиме либо с помощью горячих клавиш (**y** to code, **m** to markdown, **r** to edit raw text), либо в меню *Cell -> Cell type*. \n",
    "\n",
    "После заполнения ячейки нужно нажать *Shift + Enter*, эта команда обработает содержимое ячейки: проинтерпретирует код или сверстает размеченный текст."
   ]
  },
  {
   "cell_type": "code",
   "execution_count": 1,
   "metadata": {
    "id": "aQ2_j3nkhLuq"
   },
   "outputs": [
    {
     "data": {
      "text/plain": [
       "4"
      ]
     },
     "execution_count": 1,
     "metadata": {},
     "output_type": "execute_result"
    }
   ],
   "source": [
    "# ячейка с кодом, при выполнении которой появится output\n",
    "2 + 2"
   ]
  },
  {
   "cell_type": "markdown",
   "metadata": {
    "id": "ZlulCwVKhLur"
   },
   "source": [
    "Ячейка с неразмеченным текстом."
   ]
  },
  {
   "cell_type": "markdown",
   "metadata": {
    "id": "A4wkVlIehLur"
   },
   "source": [
    "Попробуйте создать свои ячейки, написать какой-нибудь код и текст какой-нибудь формулой."
   ]
  },
  {
   "cell_type": "code",
   "execution_count": 2,
   "metadata": {
    "id": "BIuaYSvqhLus"
   },
   "outputs": [],
   "source": [
    "# your code"
   ]
  },
  {
   "cell_type": "markdown",
   "metadata": {
    "id": "iWs6ljrIhLus"
   },
   "source": [
    "[Здесь](https://athena.brynmawr.edu/jupyter/hub/dblank/public/Jupyter%20Notebook%20Users%20Manual.ipynb) находится <s>не</s>большая заметка о используемом языке разметки Markdown. Он позволяет:\n",
    "\n",
    "0. Составлять упорядоченные списки\n",
    "1. Выделять *текст* <s>при</s> **необходимости**\n",
    "2. Добавлять [ссылки](http://imgs.xkcd.com/comics/the_universal_label.png)\n",
    "\n",
    "\n",
    "* Составлять неупорядоченные списки\n",
    "\n",
    "Делать вставки с помощью LaTex:\n",
    "    \n",
    "$\n",
    "\\left\\{\n",
    "\\begin{array}{ll}\n",
    "x = 16 \\sin^3 (t) \\\\ \n",
    "y = 13 \\cos (t) - 5 \\cos (2t) - 2 \\cos (3t) - \\cos (4t) \\\\\n",
    "t \\in [0, 2 \\pi]\n",
    "\\end{array}\n",
    "\\right.$"
   ]
  },
  {
   "cell_type": "markdown",
   "metadata": {
    "id": "6fmTGcXOhLus"
   },
   "source": [
    "А ещё можно вставлять картинки, или гифки, или что захотите:\n",
    "\n",
    "<img src=\"https://media1.tenor.com/images/9b8fbe9214504bcf6c60fe4e4f7e114e/tenor.gif?itemid=5416416\" style=\"width: 400px\">"
   ]
  },
  {
   "cell_type": "markdown",
   "metadata": {
    "id": "J_toGw7DhLut"
   },
   "source": [
    "### Google Colab"
   ]
  },
  {
   "cell_type": "markdown",
   "metadata": {
    "id": "jpkbCVjGhLut"
   },
   "source": [
    "Что за колаб? \n",
    "\n",
    "**Google Colab (Colaboratory)** это **Jupyter Notebook + Cloud + Google Drive.**\n",
    "\n",
    "Компания Google предоставляет возможность бесплатно запускать ноутбуки (предварительно загрузив их на свой гугл-диск) прямо в облаке. При этом вам не требуется установка никаких пакетов на свою машину, а работать можно прямиком из браузера. Вот ссылка:"
   ]
  },
  {
   "cell_type": "markdown",
   "metadata": {
    "id": "06MQog3yhLut"
   },
   "source": [
    "https://colab.research.google.com"
   ]
  },
  {
   "cell_type": "markdown",
   "metadata": {
    "id": "5_hfWXKPhLut"
   },
   "source": [
    "При использовании вы увидете много сходств с jupyter ноутбуком. Одним из преимуществ является доступность GPU, соответствующую опцию можно активировать в настройках сервиса. При желании вы сможете найти в интернете много туториалов по использованию или разобраться самостоятельно =)"
   ]
  },
  {
   "cell_type": "markdown",
   "metadata": {
    "id": "sUe2vnFGhLuu"
   },
   "source": [
    "## 1. Табличные данные и Pandas"
   ]
  },
  {
   "cell_type": "markdown",
   "metadata": {
    "id": "DJQzjjqJhLuu"
   },
   "source": [
    "Pandas — удобная библиотека для работы с табличными данными в Python, если данных не слишком много и они помещаются в оперативную память вашего компьютера. Несмотря на неэффективность реализации и некоторые проблемы, библиотека стала стандартом в анализе данных.\n",
    "\n",
    "Основной объект в pandas — это DataFrame, представляющий собой таблицу с именованными колонками различных типов, индексом (может быть многоуровневым). DataFrame можно создавать, считывая таблицу из файла или задавая вручную из других объектов.\n",
    "\n",
    "В этой части потребуется выполнить несколько небольших заданий. Можно пойти двумя путями: сначала изучить материалы, а потом приступить к заданиям, или же разбираться \"по ходу\". Выбирайте сами.\n",
    "\n",
    "Материалы:\n",
    "1. [Pandas за 10 минут из официального руководства](http://pandas.pydata.org/pandas-docs/stable/10min.html)\n",
    "2. [Документация](http://pandas.pydata.org/pandas-docs/stable/index.html) (стоит обращаться, если не понятно, как вызывать конкретный метод)\n",
    "3. [Примеры использования функционала](http://nbviewer.jupyter.org/github/justmarkham/pandas-videos/blob/master/pandas.ipynb)\n",
    "\n",
    "Многие из заданий можно выполнить несколькими способами. Не существуют единственно верного, но попробуйте максимально задействовать арсенал pandas и ориентируйтесь на простоту и понятность вашего кода. Мы не будем подсказывать, что нужно использовать для решения конкретной задачи, попробуйте находить необходимый функционал сами (название метода чаще всего очевидно). В помощь вам документация, поиск и stackoverflow."
   ]
  },
  {
   "cell_type": "code",
   "execution_count": 3,
   "metadata": {
    "id": "26zbFY25hLuv",
    "outputId": "404c22c6-2696-48ab-c71e-7a3ffbc36b18"
   },
   "outputs": [
    {
     "name": "stdout",
     "output_type": "stream",
     "text": [
      "Populating the interactive namespace from numpy and matplotlib\n"
     ]
    }
   ],
   "source": [
    "%pylab inline\n",
    "import pandas as pd"
   ]
  },
  {
   "cell_type": "markdown",
   "metadata": {},
   "source": [
    "<span style=\"color:red\">Перед выполнением задания необходимо ознакомиться с первым семинаром (seminars/sem01-pandas.ipynb) </span>.\n",
    "\n",
    "Это поможет вам получить общее понимание происходяшего и успешнее справиться с заданием.\n",
    "\n",
    "Также успешному выполнению способствует внимательное чтение текста задания от начала до конца.\n",
    "\n",
    "Удачи!"
   ]
  },
  {
   "cell_type": "markdown",
   "metadata": {
    "id": "dneJl9TyhLuv"
   },
   "source": [
    "Скачаем подготовленные на семинаре данные:"
   ]
  },
  {
   "cell_type": "markdown",
   "metadata": {
    "id": "5hp7bn_ThLuw"
   },
   "source": [
    "Для пользователей Windows: скачайте файл самостоятельно и поместите его в папку с тетрадкой. Или попробуйте один из следующих вариантов:"
   ]
  },
  {
   "cell_type": "code",
   "execution_count": 4,
   "metadata": {
    "id": "4h4_BaX8hLuw"
   },
   "outputs": [],
   "source": [
    "# !powershell iwr -outf somefile https://somesite/somefile\n",
    "import warnings \n",
    "\n",
    "warnings.filterwarnings('ignore')"
   ]
  },
  {
   "cell_type": "code",
   "execution_count": 5,
   "metadata": {
    "id": "7bHroLGChLuw"
   },
   "outputs": [
    {
     "name": "stderr",
     "output_type": "stream",
     "text": [
      "WARNING: Ignoring invalid distribution -cipy (c:\\users\\hp\\anaconda3\\envs\\py39\\lib\\site-packages)\n",
      "WARNING: Ignoring invalid distribution -cipy (c:\\users\\hp\\anaconda3\\envs\\py39\\lib\\site-packages)\n",
      "WARNING: Ignoring invalid distribution -cipy (c:\\users\\hp\\anaconda3\\envs\\py39\\lib\\site-packages)\n",
      "WARNING: Ignoring invalid distribution -cipy (c:\\users\\hp\\anaconda3\\envs\\py39\\lib\\site-packages)\n",
      "WARNING: Ignoring invalid distribution -cipy (c:\\users\\hp\\anaconda3\\envs\\py39\\lib\\site-packages)\n",
      "WARNING: Ignoring invalid distribution -cipy (c:\\users\\hp\\anaconda3\\envs\\py39\\lib\\site-packages)\n"
     ]
    },
    {
     "name": "stdout",
     "output_type": "stream",
     "text": [
      "Requirement already satisfied: wget in c:\\users\\hp\\anaconda3\\envs\\py39\\lib\\site-packages (3.2)\n"
     ]
    },
    {
     "data": {
      "text/plain": [
       "'end_seminar (2).xlsx'"
      ]
     },
     "execution_count": 5,
     "metadata": {},
     "output_type": "execute_result"
    }
   ],
   "source": [
    "!pip install wget\n",
    "import wget \n",
    "wget.download('https://dropbox.com/s/f4rm8sjc3v99p0m/_end_seminar.xlsx?dl=1', 'end_seminar.xlsx')"
   ]
  },
  {
   "cell_type": "markdown",
   "metadata": {
    "id": "VFs_6IythLux"
   },
   "source": [
    "##### В первой части задания (до раздела \"Распределение студентов по курсам\") использование циклов запрещается и повлечет за собой снижение оценки. Использование <code>vectorize</code> и  <code>apply</code>, <code>apply_along_axis</code> крайне нежелательно."
   ]
  },
  {
   "cell_type": "markdown",
   "metadata": {
    "id": "shFkfJkohLux"
   },
   "source": [
    "Для каждой задачи из этого раздела вы должны написать код для получения ответа, а также дать текстовый ответ, если он предполагается.\n",
    "\n",
    "На некоторые вопросы вы можете получить путём пристального взгляда на таблицу, но это не будет засчитываться. Вы в любом случае должны получить ответ с помощью кода."
   ]
  },
  {
   "cell_type": "markdown",
   "metadata": {
    "id": "gDD85M7bhLux"
   },
   "source": [
    "#### 1. [0 баллов] Откройте файл с таблицей (не забудьте про её формат). Выведите последние 10 строк.\n",
    "\n",
    "Посмотрите на данные и скажите, что они из себя представляют, сколько в таблице строк, какие столбцы? (на это не надо отвечать, просто подумайте об этом)"
   ]
  },
  {
   "cell_type": "code",
   "execution_count": 6,
   "metadata": {
    "id": "PKulur3LhLuy"
   },
   "outputs": [
    {
     "data": {
      "text/html": [
       "<div>\n",
       "<style scoped>\n",
       "    .dataframe tbody tr th:only-of-type {\n",
       "        vertical-align: middle;\n",
       "    }\n",
       "\n",
       "    .dataframe tbody tr th {\n",
       "        vertical-align: top;\n",
       "    }\n",
       "\n",
       "    .dataframe thead th {\n",
       "        text-align: right;\n",
       "    }\n",
       "</style>\n",
       "<table border=\"1\" class=\"dataframe\">\n",
       "  <thead>\n",
       "    <tr style=\"text-align: right;\">\n",
       "      <th></th>\n",
       "      <th>timestamp</th>\n",
       "      <th>id</th>\n",
       "      <th>rating</th>\n",
       "      <th>18_group</th>\n",
       "      <th>is_mi</th>\n",
       "      <th>fall_1</th>\n",
       "      <th>fall_2</th>\n",
       "      <th>fall_3</th>\n",
       "      <th>spring_1</th>\n",
       "      <th>spring_2</th>\n",
       "      <th>spring_3</th>\n",
       "      <th>is_first_time</th>\n",
       "      <th>percentile</th>\n",
       "      <th>17_group</th>\n",
       "      <th>blended</th>\n",
       "      <th>is_ml_student</th>\n",
       "    </tr>\n",
       "  </thead>\n",
       "  <tbody>\n",
       "    <tr>\n",
       "      <th>0</th>\n",
       "      <td>2020-05-15 01:12:50.543</td>\n",
       "      <td>93ff79a51cd602f1dd3028ba2c129503</td>\n",
       "      <td>698</td>\n",
       "      <td>181.0</td>\n",
       "      <td>NaN</td>\n",
       "      <td>Язык SQL</td>\n",
       "      <td>Высокопроизводительные вычисления</td>\n",
       "      <td>Матричные вычисления</td>\n",
       "      <td>Дискретная оптимизация</td>\n",
       "      <td>Численные методы</td>\n",
       "      <td>Машинное обучение 2</td>\n",
       "      <td>Да</td>\n",
       "      <td>0.183857</td>\n",
       "      <td>NaN</td>\n",
       "      <td>NaN</td>\n",
       "      <td>NaN</td>\n",
       "    </tr>\n",
       "    <tr>\n",
       "      <th>1</th>\n",
       "      <td>2020-05-15 02:46:48.066</td>\n",
       "      <td>26b01b1c4cd5656bab18d24c548834fb</td>\n",
       "      <td>647</td>\n",
       "      <td>181.0</td>\n",
       "      <td>NaN</td>\n",
       "      <td>Высокопроизводительные вычисления</td>\n",
       "      <td>Безопасность компьютерных систем</td>\n",
       "      <td>Язык SQL</td>\n",
       "      <td>Дискретная оптимизация</td>\n",
       "      <td>Численные методы</td>\n",
       "      <td>Машинное обучение 2</td>\n",
       "      <td>Нет</td>\n",
       "      <td>0.426009</td>\n",
       "      <td>NaN</td>\n",
       "      <td>NaN</td>\n",
       "      <td>NaN</td>\n",
       "    </tr>\n",
       "    <tr>\n",
       "      <th>2</th>\n",
       "      <td>2020-05-15 03:12:41.480</td>\n",
       "      <td>30f3653fc176d54e89ac3179c455c6dd</td>\n",
       "      <td>624</td>\n",
       "      <td>185.0</td>\n",
       "      <td>NaN</td>\n",
       "      <td>Безопасность компьютерных систем</td>\n",
       "      <td>Матричные вычисления</td>\n",
       "      <td>Моделирование временных рядов</td>\n",
       "      <td>Дискретная оптимизация</td>\n",
       "      <td>Машинное обучение 2</td>\n",
       "      <td>Численные методы</td>\n",
       "      <td>Да</td>\n",
       "      <td>0.538117</td>\n",
       "      <td>NaN</td>\n",
       "      <td>NaN</td>\n",
       "      <td>NaN</td>\n",
       "    </tr>\n",
       "    <tr>\n",
       "      <th>3</th>\n",
       "      <td>2020-05-15 04:43:08.994</td>\n",
       "      <td>1528f0eaa027580820ccf0d92a53ad68</td>\n",
       "      <td>579</td>\n",
       "      <td>182.0</td>\n",
       "      <td>NaN</td>\n",
       "      <td>Statistical Learning Theory</td>\n",
       "      <td>Высокопроизводительные вычисления</td>\n",
       "      <td>Матричные вычисления</td>\n",
       "      <td>Дискретная оптимизация</td>\n",
       "      <td>Численные методы</td>\n",
       "      <td>Машинное обучение 2</td>\n",
       "      <td>Да</td>\n",
       "      <td>0.744395</td>\n",
       "      <td>NaN</td>\n",
       "      <td>NaN</td>\n",
       "      <td>NaN</td>\n",
       "    </tr>\n",
       "    <tr>\n",
       "      <th>4</th>\n",
       "      <td>2020-05-15 07:47:17.197</td>\n",
       "      <td>496ea4f0d4abe264b1bb1b80eb3830c5</td>\n",
       "      <td>572</td>\n",
       "      <td>183.0</td>\n",
       "      <td>NaN</td>\n",
       "      <td>Высокопроизводительные вычисления</td>\n",
       "      <td>Безопасность компьютерных систем</td>\n",
       "      <td>Теория баз данных</td>\n",
       "      <td>Компьютерные сети</td>\n",
       "      <td>Дискретная оптимизация</td>\n",
       "      <td>Численные методы</td>\n",
       "      <td>Да</td>\n",
       "      <td>0.780269</td>\n",
       "      <td>NaN</td>\n",
       "      <td>NaN</td>\n",
       "      <td>NaN</td>\n",
       "    </tr>\n",
       "    <tr>\n",
       "      <th>5</th>\n",
       "      <td>2020-05-15 09:10:18.558</td>\n",
       "      <td>d0d8ff53ed5b119f9056068e954256c6</td>\n",
       "      <td>591</td>\n",
       "      <td>187.0</td>\n",
       "      <td>NaN</td>\n",
       "      <td>Язык SQL</td>\n",
       "      <td>Statistical Learning Theory</td>\n",
       "      <td>Сбор и обработка данных с помощью краудсорсинга</td>\n",
       "      <td>Промышленное программирование на языке Java</td>\n",
       "      <td>Численные методы</td>\n",
       "      <td>Дискретная оптимизация</td>\n",
       "      <td>Да</td>\n",
       "      <td>0.690583</td>\n",
       "      <td>NaN</td>\n",
       "      <td>NaN</td>\n",
       "      <td>NaN</td>\n",
       "    </tr>\n",
       "    <tr>\n",
       "      <th>6</th>\n",
       "      <td>2020-05-15 11:42:16.910</td>\n",
       "      <td>e4caca755ee0bdd711e18fb8084958b5</td>\n",
       "      <td>724</td>\n",
       "      <td>181.0</td>\n",
       "      <td>NaN</td>\n",
       "      <td>Statistical Learning Theory</td>\n",
       "      <td>Безопасность компьютерных систем</td>\n",
       "      <td>Моделирование временных рядов</td>\n",
       "      <td>Численные методы</td>\n",
       "      <td>Промышленное программирование на языке Java</td>\n",
       "      <td>Машинное обучение 2</td>\n",
       "      <td>Да</td>\n",
       "      <td>0.103139</td>\n",
       "      <td>NaN</td>\n",
       "      <td>NaN</td>\n",
       "      <td>NaN</td>\n",
       "    </tr>\n",
       "    <tr>\n",
       "      <th>7</th>\n",
       "      <td>2020-05-15 12:11:43.252</td>\n",
       "      <td>8047c18b3c531c6f47931e0744f3e028</td>\n",
       "      <td>566</td>\n",
       "      <td>187.0</td>\n",
       "      <td>NaN</td>\n",
       "      <td>Язык SQL</td>\n",
       "      <td>Теория баз данных</td>\n",
       "      <td>Безопасность компьютерных систем</td>\n",
       "      <td>Промышленное программирование на языке Java</td>\n",
       "      <td>Компьютерные сети</td>\n",
       "      <td>Дискретная оптимизация</td>\n",
       "      <td>Да</td>\n",
       "      <td>0.802691</td>\n",
       "      <td>NaN</td>\n",
       "      <td>NaN</td>\n",
       "      <td>NaN</td>\n",
       "    </tr>\n",
       "    <tr>\n",
       "      <th>8</th>\n",
       "      <td>2020-05-15 13:21:40.913</td>\n",
       "      <td>e8b314842f176be9051d14a07cb156cb</td>\n",
       "      <td>618</td>\n",
       "      <td>181.0</td>\n",
       "      <td>NaN</td>\n",
       "      <td>Язык SQL</td>\n",
       "      <td>Теория баз данных</td>\n",
       "      <td>Матричные вычисления</td>\n",
       "      <td>Промышленное программирование на языке Java</td>\n",
       "      <td>Компьютерные сети</td>\n",
       "      <td>Дискретная оптимизация</td>\n",
       "      <td>Да</td>\n",
       "      <td>0.565022</td>\n",
       "      <td>NaN</td>\n",
       "      <td>NaN</td>\n",
       "      <td>NaN</td>\n",
       "    </tr>\n",
       "    <tr>\n",
       "      <th>9</th>\n",
       "      <td>2020-05-15 13:29:10.789</td>\n",
       "      <td>d6c079f1ff869c8c84fa3ed30bd67e0e</td>\n",
       "      <td>733</td>\n",
       "      <td>181.0</td>\n",
       "      <td>NaN</td>\n",
       "      <td>Теория баз данных</td>\n",
       "      <td>Высокопроизводительные вычисления</td>\n",
       "      <td>Сбор и обработка данных с помощью краудсорсинга</td>\n",
       "      <td>Дополнительные главы прикладной статистики</td>\n",
       "      <td>Анализ данных в бизнесе</td>\n",
       "      <td>Численные методы</td>\n",
       "      <td>Да</td>\n",
       "      <td>0.085202</td>\n",
       "      <td>NaN</td>\n",
       "      <td>NaN</td>\n",
       "      <td>1.0</td>\n",
       "    </tr>\n",
       "  </tbody>\n",
       "</table>\n",
       "</div>"
      ],
      "text/plain": [
       "                timestamp                                id  rating  18_group  \\\n",
       "0 2020-05-15 01:12:50.543  93ff79a51cd602f1dd3028ba2c129503     698     181.0   \n",
       "1 2020-05-15 02:46:48.066  26b01b1c4cd5656bab18d24c548834fb     647     181.0   \n",
       "2 2020-05-15 03:12:41.480  30f3653fc176d54e89ac3179c455c6dd     624     185.0   \n",
       "3 2020-05-15 04:43:08.994  1528f0eaa027580820ccf0d92a53ad68     579     182.0   \n",
       "4 2020-05-15 07:47:17.197  496ea4f0d4abe264b1bb1b80eb3830c5     572     183.0   \n",
       "5 2020-05-15 09:10:18.558  d0d8ff53ed5b119f9056068e954256c6     591     187.0   \n",
       "6 2020-05-15 11:42:16.910  e4caca755ee0bdd711e18fb8084958b5     724     181.0   \n",
       "7 2020-05-15 12:11:43.252  8047c18b3c531c6f47931e0744f3e028     566     187.0   \n",
       "8 2020-05-15 13:21:40.913  e8b314842f176be9051d14a07cb156cb     618     181.0   \n",
       "9 2020-05-15 13:29:10.789  d6c079f1ff869c8c84fa3ed30bd67e0e     733     181.0   \n",
       "\n",
       "   is_mi                             fall_1  \\\n",
       "0    NaN                           Язык SQL   \n",
       "1    NaN  Высокопроизводительные вычисления   \n",
       "2    NaN   Безопасность компьютерных систем   \n",
       "3    NaN        Statistical Learning Theory   \n",
       "4    NaN  Высокопроизводительные вычисления   \n",
       "5    NaN                           Язык SQL   \n",
       "6    NaN        Statistical Learning Theory   \n",
       "7    NaN                           Язык SQL   \n",
       "8    NaN                           Язык SQL   \n",
       "9    NaN                  Теория баз данных   \n",
       "\n",
       "                              fall_2  \\\n",
       "0  Высокопроизводительные вычисления   \n",
       "1   Безопасность компьютерных систем   \n",
       "2               Матричные вычисления   \n",
       "3  Высокопроизводительные вычисления   \n",
       "4   Безопасность компьютерных систем   \n",
       "5        Statistical Learning Theory   \n",
       "6   Безопасность компьютерных систем   \n",
       "7                  Теория баз данных   \n",
       "8                  Теория баз данных   \n",
       "9  Высокопроизводительные вычисления   \n",
       "\n",
       "                                            fall_3  \\\n",
       "0                             Матричные вычисления   \n",
       "1                                         Язык SQL   \n",
       "2                    Моделирование временных рядов   \n",
       "3                             Матричные вычисления   \n",
       "4                                Теория баз данных   \n",
       "5  Сбор и обработка данных с помощью краудсорсинга   \n",
       "6                    Моделирование временных рядов   \n",
       "7                 Безопасность компьютерных систем   \n",
       "8                             Матричные вычисления   \n",
       "9  Сбор и обработка данных с помощью краудсорсинга   \n",
       "\n",
       "                                      spring_1  \\\n",
       "0                       Дискретная оптимизация   \n",
       "1                       Дискретная оптимизация   \n",
       "2                       Дискретная оптимизация   \n",
       "3                       Дискретная оптимизация   \n",
       "4                            Компьютерные сети   \n",
       "5  Промышленное программирование на языке Java   \n",
       "6                             Численные методы   \n",
       "7  Промышленное программирование на языке Java   \n",
       "8  Промышленное программирование на языке Java   \n",
       "9   Дополнительные главы прикладной статистики   \n",
       "\n",
       "                                      spring_2                spring_3  \\\n",
       "0                             Численные методы     Машинное обучение 2   \n",
       "1                             Численные методы     Машинное обучение 2   \n",
       "2                          Машинное обучение 2        Численные методы   \n",
       "3                             Численные методы     Машинное обучение 2   \n",
       "4                       Дискретная оптимизация        Численные методы   \n",
       "5                             Численные методы  Дискретная оптимизация   \n",
       "6  Промышленное программирование на языке Java     Машинное обучение 2   \n",
       "7                            Компьютерные сети  Дискретная оптимизация   \n",
       "8                            Компьютерные сети  Дискретная оптимизация   \n",
       "9                      Анализ данных в бизнесе        Численные методы   \n",
       "\n",
       "  is_first_time  percentile  17_group blended  is_ml_student  \n",
       "0            Да    0.183857       NaN     NaN            NaN  \n",
       "1           Нет    0.426009       NaN     NaN            NaN  \n",
       "2            Да    0.538117       NaN     NaN            NaN  \n",
       "3            Да    0.744395       NaN     NaN            NaN  \n",
       "4            Да    0.780269       NaN     NaN            NaN  \n",
       "5            Да    0.690583       NaN     NaN            NaN  \n",
       "6            Да    0.103139       NaN     NaN            NaN  \n",
       "7            Да    0.802691       NaN     NaN            NaN  \n",
       "8            Да    0.565022       NaN     NaN            NaN  \n",
       "9            Да    0.085202       NaN     NaN            1.0  "
      ]
     },
     "execution_count": 6,
     "metadata": {},
     "output_type": "execute_result"
    }
   ],
   "source": [
    "# your code\n",
    "df = pd.read_excel('end_seminar.xlsx')\n",
    "df.head(10)"
   ]
  },
  {
   "cell_type": "markdown",
   "metadata": {
    "id": "jPiMwyqHhLuy"
   },
   "source": [
    "#### 2. [0.5 балла] Есть ли в данных пропуски? В каких колонках? Сколько их в каждой из этих колонок?"
   ]
  },
  {
   "cell_type": "code",
   "execution_count": 7,
   "metadata": {
    "id": "edY1RrSOhLuy"
   },
   "outputs": [
    {
     "data": {
      "text/plain": [
       "timestamp          0\n",
       "id                 0\n",
       "rating             0\n",
       "18_group         138\n",
       "is_mi            343\n",
       "fall_1             0\n",
       "fall_2             0\n",
       "fall_3             0\n",
       "spring_1           0\n",
       "spring_2           0\n",
       "spring_3           0\n",
       "is_first_time      2\n",
       "percentile         0\n",
       "17_group         223\n",
       "blended          223\n",
       "is_ml_student    304\n",
       "dtype: int64"
      ]
     },
     "execution_count": 7,
     "metadata": {},
     "output_type": "execute_result"
    }
   ],
   "source": [
    "# your code\n",
    "\n",
    "df.isna().sum()"
   ]
  },
  {
   "cell_type": "markdown",
   "metadata": {
    "id": "B5ORhP2uhLuz"
   },
   "source": [
    "Заполните пропуски пустой строкой для строковых колонок и нулём для числовых (постарайтесь избежать перечисления названий всех столбцов)."
   ]
  },
  {
   "cell_type": "code",
   "execution_count": 8,
   "metadata": {
    "id": "TlF_JJ2ghLuz"
   },
   "outputs": [],
   "source": [
    "# your code\n",
    "\n",
    "df[['is_mi', 'is_first_time', 'blended', 'is_ml_student']] = df[['is_mi', 'is_first_time', 'blended', 'is_ml_student']].fillna('')\n",
    "df[['17_group', '18_group']] = df[['17_group', '18_group']].fillna(0)"
   ]
  },
  {
   "cell_type": "markdown",
   "metadata": {
    "id": "w5ELhkT1hLuz"
   },
   "source": [
    "#### 3. [0.5 балла] Посмотрите повнимательнее на колонку 'is_first_time'. \n",
    "\n",
    "Есть ли в ней ответы \"Нет\"? Сколько их?\n",
    "\n",
    "Если вы найдете повторные обращения студентов, оставьте только самую позднюю версию. В дальнейших заданиях используйте версию данных без повторов.\n",
    "\n",
    "<i>Обращения со значением \"Нет\" в 'is_first_time' могут быть как повторными, так и первичными, поскольку поле заполняли сами студенты.</i>"
   ]
  },
  {
   "cell_type": "code",
   "execution_count": 9,
   "metadata": {
    "id": "VEfiNsyQhLuz"
   },
   "outputs": [
    {
     "name": "stdout",
     "output_type": "stream",
     "text": [
      "Yes, amount=51\n"
     ]
    }
   ],
   "source": [
    "# your code\n",
    "l = len(df[df['is_first_time']==\"Нет\"])\n",
    "print(f'Yes, amount={l}' if l > 0 else print('No'))"
   ]
  },
  {
   "cell_type": "code",
   "execution_count": 10,
   "metadata": {},
   "outputs": [],
   "source": [
    "df = df.groupby('id').agg('max').reset_index()"
   ]
  },
  {
   "cell_type": "markdown",
   "metadata": {
    "id": "Jhk3tVpVhLuy"
   },
   "source": [
    "#### 4. [0.5 балла] Ответьте на вопросы:\n",
    "1. Сколько было заявок из групп 18-го года набора, а сколько из групп 17-го года?\n",
    "2. Есть ли студенты с равными перцентилями (среди объединенных данных, ведь конкурс на каждый курс общий)?"
   ]
  },
  {
   "cell_type": "code",
   "execution_count": 11,
   "metadata": {
    "id": "bsn4vn8RhLuy"
   },
   "outputs": [
    {
     "name": "stdout",
     "output_type": "stream",
     "text": [
      "Количество заявок 17-ого года: 134\n",
      "Количество заявок 18-ого года: 213\n"
     ]
    }
   ],
   "source": [
    "# your code\n",
    "count_17 = len(df[df['17_group']!=0])\n",
    "count_18 = len(df[df['18_group']!=0])\n",
    "print(f'Количество заявок 17-ого года: {count_17}')\n",
    "print(f'Количество заявок 18-ого года: {count_18}')\n"
   ]
  },
  {
   "cell_type": "code",
   "execution_count": 12,
   "metadata": {},
   "outputs": [
    {
     "name": "stdout",
     "output_type": "stream",
     "text": [
      "Количество студентов с равными percentile: 2\n"
     ]
    }
   ],
   "source": [
    "count_of_equal_percentiles = df['percentile'].duplicated().sum()+1\n",
    "print(f\"Количество студентов с равными percentile: {count_of_equal_percentiles}\")"
   ]
  },
  {
   "cell_type": "markdown",
   "metadata": {
    "id": "IlzHp3HVhLuz"
   },
   "source": [
    "#### 5. [0.5 балла] Какие  blended-курсы для четверокурсников существуют? На какой blended-курс записалось наибольшее количество студентов? На каком из blended-курсов собрались студенты с самым высоким средним рейтингом (выведите этот курс и количество студентов на нем)? "
   ]
  },
  {
   "cell_type": "code",
   "execution_count": 13,
   "metadata": {
    "id": "j_BRWerHhLu0"
   },
   "outputs": [
    {
     "data": {
      "text/plain": [
       "array(['Соревновательный анализ данных', 'DevOps',\n",
       "       'Введение в дифференциальную геометрию'], dtype=object)"
      ]
     },
     "execution_count": 13,
     "metadata": {},
     "output_type": "execute_result"
    }
   ],
   "source": [
    "# your code\n",
    "df[df['17_group'] != 0]['blended'].unique()"
   ]
  },
  {
   "cell_type": "code",
   "execution_count": 14,
   "metadata": {},
   "outputs": [
    {
     "name": "stdout",
     "output_type": "stream",
     "text": [
      "Most popular blended course: DevOps\n",
      "highest mean percentile blended course: Соревновательный анализ данных\n"
     ]
    }
   ],
   "source": [
    "blended = df[df['17_group'] != 0].groupby('blended').agg({'id':'count', 'percentile':'mean'}).reset_index()\n",
    "popular_blended_course = blended.sort_values('id', ascending=False, ignore_index=True)['blended'][0]\n",
    "highest_mean_percentile_blended = blended.sort_values('percentile', ascending=False, ignore_index=True)['blended'][0]\n",
    "print(f'Most popular blended course: {popular_blended_course}')\n",
    "print(f'highest mean percentile blended course: {highest_mean_percentile_blended}')"
   ]
  },
  {
   "cell_type": "code",
   "execution_count": 15,
   "metadata": {},
   "outputs": [
    {
     "data": {
      "text/plain": [
       "0           Соревновательный анализ данных\n",
       "1                                   DevOps\n",
       "2    Введение в дифференциальную геометрию\n",
       "Name: blended, dtype: object"
      ]
     },
     "execution_count": 15,
     "metadata": {},
     "output_type": "execute_result"
    }
   ],
   "source": [
    "blended.sort_values('percentile', ascending=False, ignore_index=True)['blended']"
   ]
  },
  {
   "cell_type": "markdown",
   "metadata": {
    "id": "IU_FLt8HhLu0"
   },
   "source": [
    "#### 6. [1 балл] Выясните, есть ли студенты с абсолютно одинаковыми предпочтениями по всем курсам.\n",
    "\n",
    "Для этого сформируйте таблицу, где для каждого возможного набора курсов посчитано количество студентов, выбравших такой набор, и оставьте только строки где это количество больше 1.\n",
    "\n",
    "В данном случае набор курсов задается упорядоченным множеством ('fall_1', 'fall_2', 'fall_3', 'spring_1', 'spring_2', 'spring_3', 'blended'). Элемент blended будет нулевым для 3-го курса."
   ]
  },
  {
   "cell_type": "code",
   "execution_count": 16,
   "metadata": {
    "id": "BBDlR1mFhLu0"
   },
   "outputs": [
    {
     "name": "stdout",
     "output_type": "stream",
     "text": [
      "Количство студентов с одинаковыми предпочтениями: 14\n"
     ]
    }
   ],
   "source": [
    "# your code\n",
    "name_courses = ['fall_1', 'fall_2', 'fall_3', 'spring_1', 'spring_2', 'spring_3', 'blended']\n",
    "subset_courses = df.groupby(name_courses).agg({'id':'count'}).reset_index()\n",
    "same_choice = subset_courses[subset_courses['id'] > 1]\n",
    "if same_choice.shape[0]>0:\n",
    "    print(f'Количство студентов с одинаковыми предпочтениями: {same_choice.shape[0]}')\n",
    "else:\n",
    "    print('Студентов с одинаковыми предпочтениями по курсам нет((')"
   ]
  },
  {
   "cell_type": "markdown",
   "metadata": {
    "id": "spu3r3vchLu0"
   },
   "source": [
    "#### 7. [0.5 балла] Найдите курсы по выбору, на которые записывались как студенты 18-го года набора, так и студенты 17-го года."
   ]
  },
  {
   "cell_type": "code",
   "execution_count": 17,
   "metadata": {
    "id": "t21fWi8ShLu0"
   },
   "outputs": [],
   "source": [
    "# your code"
   ]
  },
  {
   "cell_type": "code",
   "execution_count": 18,
   "metadata": {},
   "outputs": [
    {
     "name": "stdout",
     "output_type": "stream",
     "text": [
      "Kурсы по выбору, на которые записывались как студенты 18-го года набора, так и студенты 17-го года: {'Моделирование временных рядов', 'Statistical Learning Theory', 'Численные методы', 'Принятие решений в условиях риска и неопределённости', 'Безопасность компьютерных систем', 'Высокопроизводительные вычисления', 'Сбор и обработка данных с помощью краудсорсинга'}\n"
     ]
    }
   ],
   "source": [
    "courses_18 = set(np.unique(df[(df['18_group'] != 0)][name_courses]))\n",
    "courses_17 = set(np.unique(df[(df['17_group'] != 0)][name_courses]))\n",
    "intersections_courses = courses_17 & courses_18\n",
    "print(f'Kурсы по выбору, на которые записывались как студенты 18-го года набора, так и студенты 17-го года: {intersections_courses}')"
   ]
  },
  {
   "cell_type": "markdown",
   "metadata": {
    "id": "PYfX-Dr5hLu0"
   },
   "source": [
    "Методом исключения найдите курсы, которые предлагались только студентам 18-го года и только студентам 17-го года."
   ]
  },
  {
   "cell_type": "code",
   "execution_count": 19,
   "metadata": {
    "id": "G9SWBOpehLu1"
   },
   "outputs": [],
   "source": [
    "# your code"
   ]
  },
  {
   "cell_type": "code",
   "execution_count": 20,
   "metadata": {},
   "outputs": [
    {
     "name": "stdout",
     "output_type": "stream",
     "text": [
      "Kурсы по выбору, на которые записывались только студенты 18-го года набора: {'', 'Анализ данных в бизнесе', 'Матричные вычисления', 'Компьютерные сети', 'Промышленное программирование на языке Java', 'Системы баз данных', 'Дополнительные главы прикладной статистики', 'Язык SQL', 'Дискретная оптимизация', 'Теория баз данных', 'Машинное обучение 2'} \n",
      "\n",
      "Kурсы по выбору, на которые записывались только студенты 17-го года набора: {'Символьные вычисления', 'Анализ неструктурированных данных', 'Введение в дифференциальную геометрию', 'Соревновательный анализ данных', 'Методы сжатия и передачи медиаданных', 'Обучение с подкреплением', 'DevOps', 'Проектирование и разработка высоконагруженных сервисов', 'Конфликты и кооперация', 'Генеративные модели в машинном обучении', 'Байесовские методы машинного обучения', 'Глубинное обучение в обработке звука', 'Компьютерное зрение'}\n"
     ]
    }
   ],
   "source": [
    "print(f'Kурсы по выбору, на которые записывались только студенты 18-го года набора: {courses_18 ^ intersections_courses} \\n')\n",
    "print(f'Kурсы по выбору, на которые записывались только студенты 17-го года набора: {courses_17 ^ intersections_courses}')"
   ]
  },
  {
   "cell_type": "markdown",
   "metadata": {
    "id": "uL45Tg5fhLu1"
   },
   "source": [
    "### Визуализации и matplotlib"
   ]
  },
  {
   "cell_type": "markdown",
   "metadata": {
    "id": "MY9lKmP2hLu1"
   },
   "source": [
    "При работе с данными часто неудобно делать какие-то выводы, если смотреть на таблицу и числа в частности, поэтому важно уметь визуализировать данные. Здесь будут описаны ключевые правила оформления графиков для **всех** домашних заданий.\n",
    "\n",
    "У matplotlib, конечно же, есть [документация](https://matplotlib.org/users/index.html) с большим количеством [примеров](https://matplotlib.org/examples/), но для начала достаточно знать про несколько основных типов графиков:\n",
    "- plot — обычный поточечный график, которым можно изображать кривые или отдельные точки;\n",
    "- hist — гистограмма, показывающая распределение некоторой величины;\n",
    "- scatter — график, показывающий взаимосвязь двух величин;\n",
    "- bar — столбцовый график, показывающий взаимосвязь количественной величины от категориальной.\n",
    "\n",
    "В этом задании вы попробуете построить один из них. Не забывайте про базовые принципы построения приличных графиков:\n",
    "- оси должны быть подписаны, причём не слишком мелко;\n",
    "- у графика должно быть название;\n",
    "- если изображено несколько графиков, то необходима поясняющая легенда;\n",
    "- все линии на графиках должны быть чётко видны (нет похожих цветов или цветов, сливающихся с фоном);\n",
    "- если отображена величина, имеющая очевидный диапазон значений (например, проценты могут быть от 0 до 100), то желательно масштабировать ось на весь диапазон значений (исключением является случай, когда вам необходимо показать малое отличие, которое незаметно в таких масштабах);\n",
    "- сетка на графике помогает оценить значения в точках на глаз, это обычно полезно, поэтому лучше ее отрисовывать;\n",
    "- если распределение на гистограмме имеет тяжёлые хвосты, лучше использовать логарифмическую шкалу.\n",
    "\n",
    "Еще одна билиотека для визуализации: [seaborn](https://jakevdp.github.io/PythonDataScienceHandbook/04.14-visualization-with-seaborn.html) (обычно сокращается до sns). Это настройка над matplotlib, иногда удобнее и красивее делать визуализации через неё. \n",
    "\n",
    "**5 пунктов после которых ваши графики не будут прежними:**\n",
    "- для красивой картинки <code>%config InlineBackend.figure_format = 'retina'</code>\n",
    "- задаем размер (почти) всех графиков (можно выбрать другие значения) <code>plt.rcParams['figure.figsize'] = 8, 5</code>\n",
    "- размер шрифта подписей графиков <code>plt.rcParams['font.size'] = 12</code>\n",
    "- формат в котором сохраняется изображение <code>mpl.rcParams['savefig.format'] = 'pdf'</code>\n",
    "- sns – seaborn, добавляет решетку <code>sns.set_style('darkgrid')</code>\n",
    "\n",
    "Добавьте эти функции в ячейку ниже. Каждый график все равно придется настраивать отдельно, но указанные строчки позволят значительно упростить процесс.  "
   ]
  },
  {
   "cell_type": "code",
   "execution_count": 21,
   "metadata": {
    "id": "na9doUOFhLu1"
   },
   "outputs": [],
   "source": [
    "%matplotlib inline\n",
    "import matplotlib.pyplot as plt\n",
    "import seaborn as sns\n",
    "\n",
    "%config InlineBackend.figure_format = 'retina'\n",
    "plt.rcParams['figure.figsize'] = 8, 5\n",
    "plt.rcParams['font.size'] = 12\n",
    "mpl.rcParams['savefig.format'] = 'pdf'\n",
    "sns.set_style('darkgrid')\n",
    "\n",
    "# your code"
   ]
  },
  {
   "cell_type": "code",
   "execution_count": null,
   "metadata": {},
   "outputs": [],
   "source": []
  },
  {
   "cell_type": "markdown",
   "metadata": {
    "id": "kikwLpxfhLu1"
   },
   "source": [
    "#### 8. [0.5 балла] Постройте график средних рейтингов по дням получения ответов (bar plot)."
   ]
  },
  {
   "cell_type": "code",
   "execution_count": 22,
   "metadata": {
    "id": "UTPLVeQvhLu2"
   },
   "outputs": [],
   "source": [
    "# your code"
   ]
  },
  {
   "cell_type": "code",
   "execution_count": 23,
   "metadata": {},
   "outputs": [
    {
     "data": {
      "text/html": [
       "<div>\n",
       "<style scoped>\n",
       "    .dataframe tbody tr th:only-of-type {\n",
       "        vertical-align: middle;\n",
       "    }\n",
       "\n",
       "    .dataframe tbody tr th {\n",
       "        vertical-align: top;\n",
       "    }\n",
       "\n",
       "    .dataframe thead th {\n",
       "        text-align: right;\n",
       "    }\n",
       "</style>\n",
       "<table border=\"1\" class=\"dataframe\">\n",
       "  <thead>\n",
       "    <tr style=\"text-align: right;\">\n",
       "      <th></th>\n",
       "      <th>id</th>\n",
       "      <th>timestamp</th>\n",
       "      <th>rating</th>\n",
       "      <th>18_group</th>\n",
       "      <th>is_mi</th>\n",
       "      <th>fall_1</th>\n",
       "      <th>fall_2</th>\n",
       "      <th>fall_3</th>\n",
       "      <th>spring_1</th>\n",
       "      <th>spring_2</th>\n",
       "      <th>spring_3</th>\n",
       "      <th>is_first_time</th>\n",
       "      <th>percentile</th>\n",
       "      <th>17_group</th>\n",
       "      <th>blended</th>\n",
       "      <th>is_ml_student</th>\n",
       "    </tr>\n",
       "  </thead>\n",
       "  <tbody>\n",
       "    <tr>\n",
       "      <th>0</th>\n",
       "      <td>00b40fe7dbfd23e5daba765244509415</td>\n",
       "      <td>2020-05-18 22:08:11.668</td>\n",
       "      <td>542</td>\n",
       "      <td>187.0</td>\n",
       "      <td></td>\n",
       "      <td>Безопасность компьютерных систем</td>\n",
       "      <td>Язык SQL</td>\n",
       "      <td>Матричные вычисления</td>\n",
       "      <td>Промышленное программирование на языке Java</td>\n",
       "      <td>Компьютерные сети</td>\n",
       "      <td>Анализ данных в бизнесе</td>\n",
       "      <td>Да</td>\n",
       "      <td>0.896861</td>\n",
       "      <td>0.0</td>\n",
       "      <td></td>\n",
       "      <td></td>\n",
       "    </tr>\n",
       "    <tr>\n",
       "      <th>1</th>\n",
       "      <td>014b72217e20370dab7acc48b20c47be</td>\n",
       "      <td>2020-05-18 16:47:43.131</td>\n",
       "      <td>543</td>\n",
       "      <td>186.0</td>\n",
       "      <td></td>\n",
       "      <td>Сбор и обработка данных с помощью краудсорсинга</td>\n",
       "      <td>Statistical Learning Theory</td>\n",
       "      <td>Матричные вычисления</td>\n",
       "      <td>Системы баз данных</td>\n",
       "      <td>Машинное обучение 2</td>\n",
       "      <td>Дискретная оптимизация</td>\n",
       "      <td>Да</td>\n",
       "      <td>0.892377</td>\n",
       "      <td>0.0</td>\n",
       "      <td></td>\n",
       "      <td></td>\n",
       "    </tr>\n",
       "    <tr>\n",
       "      <th>2</th>\n",
       "      <td>01b072a0cdb45814fc4ab8ca3e621f0e</td>\n",
       "      <td>2020-05-18 23:01:39.666</td>\n",
       "      <td>1058</td>\n",
       "      <td>0.0</td>\n",
       "      <td></td>\n",
       "      <td>Анализ неструктурированных данных</td>\n",
       "      <td>Сбор и обработка данных с помощью краудсорсинга</td>\n",
       "      <td>Моделирование временных рядов</td>\n",
       "      <td>Обучение с подкреплением</td>\n",
       "      <td>Компьютерное зрение</td>\n",
       "      <td>Символьные вычисления</td>\n",
       "      <td>Да</td>\n",
       "      <td>0.847826</td>\n",
       "      <td>173.0</td>\n",
       "      <td>Соревновательный анализ данных</td>\n",
       "      <td></td>\n",
       "    </tr>\n",
       "    <tr>\n",
       "      <th>3</th>\n",
       "      <td>044e038535ae5d2ff037150b77fdc6d1</td>\n",
       "      <td>2020-05-18 17:56:00.688</td>\n",
       "      <td>710</td>\n",
       "      <td>182.0</td>\n",
       "      <td></td>\n",
       "      <td>Безопасность компьютерных систем</td>\n",
       "      <td>Statistical Learning Theory</td>\n",
       "      <td>Матричные вычисления</td>\n",
       "      <td>Дискретная оптимизация</td>\n",
       "      <td>Промышленное программирование на языке Java</td>\n",
       "      <td>Дополнительные главы прикладной статистики</td>\n",
       "      <td>Да</td>\n",
       "      <td>0.139013</td>\n",
       "      <td>0.0</td>\n",
       "      <td></td>\n",
       "      <td>1.0</td>\n",
       "    </tr>\n",
       "    <tr>\n",
       "      <th>4</th>\n",
       "      <td>04b88fcbe5ba58aa8369c7de5e574de0</td>\n",
       "      <td>2020-05-18 17:00:34.890</td>\n",
       "      <td>719</td>\n",
       "      <td>181.0</td>\n",
       "      <td></td>\n",
       "      <td>Безопасность компьютерных систем</td>\n",
       "      <td>Моделирование временных рядов</td>\n",
       "      <td>Высокопроизводительные вычисления</td>\n",
       "      <td>Дискретная оптимизация</td>\n",
       "      <td>Компьютерные сети</td>\n",
       "      <td>Промышленное программирование на языке Java</td>\n",
       "      <td>Да</td>\n",
       "      <td>0.121076</td>\n",
       "      <td>0.0</td>\n",
       "      <td></td>\n",
       "      <td></td>\n",
       "    </tr>\n",
       "  </tbody>\n",
       "</table>\n",
       "</div>"
      ],
      "text/plain": [
       "                                 id               timestamp  rating  18_group  \\\n",
       "0  00b40fe7dbfd23e5daba765244509415 2020-05-18 22:08:11.668     542     187.0   \n",
       "1  014b72217e20370dab7acc48b20c47be 2020-05-18 16:47:43.131     543     186.0   \n",
       "2  01b072a0cdb45814fc4ab8ca3e621f0e 2020-05-18 23:01:39.666    1058       0.0   \n",
       "3  044e038535ae5d2ff037150b77fdc6d1 2020-05-18 17:56:00.688     710     182.0   \n",
       "4  04b88fcbe5ba58aa8369c7de5e574de0 2020-05-18 17:00:34.890     719     181.0   \n",
       "\n",
       "  is_mi                                           fall_1  \\\n",
       "0                       Безопасность компьютерных систем   \n",
       "1        Сбор и обработка данных с помощью краудсорсинга   \n",
       "2                      Анализ неструктурированных данных   \n",
       "3                       Безопасность компьютерных систем   \n",
       "4                       Безопасность компьютерных систем   \n",
       "\n",
       "                                            fall_2  \\\n",
       "0                                         Язык SQL   \n",
       "1                      Statistical Learning Theory   \n",
       "2  Сбор и обработка данных с помощью краудсорсинга   \n",
       "3                      Statistical Learning Theory   \n",
       "4                    Моделирование временных рядов   \n",
       "\n",
       "                              fall_3  \\\n",
       "0               Матричные вычисления   \n",
       "1               Матричные вычисления   \n",
       "2      Моделирование временных рядов   \n",
       "3               Матричные вычисления   \n",
       "4  Высокопроизводительные вычисления   \n",
       "\n",
       "                                      spring_1  \\\n",
       "0  Промышленное программирование на языке Java   \n",
       "1                           Системы баз данных   \n",
       "2                     Обучение с подкреплением   \n",
       "3                       Дискретная оптимизация   \n",
       "4                       Дискретная оптимизация   \n",
       "\n",
       "                                      spring_2  \\\n",
       "0                            Компьютерные сети   \n",
       "1                          Машинное обучение 2   \n",
       "2                          Компьютерное зрение   \n",
       "3  Промышленное программирование на языке Java   \n",
       "4                            Компьютерные сети   \n",
       "\n",
       "                                      spring_3 is_first_time  percentile  \\\n",
       "0                      Анализ данных в бизнесе            Да    0.896861   \n",
       "1                       Дискретная оптимизация            Да    0.892377   \n",
       "2                        Символьные вычисления            Да    0.847826   \n",
       "3   Дополнительные главы прикладной статистики            Да    0.139013   \n",
       "4  Промышленное программирование на языке Java            Да    0.121076   \n",
       "\n",
       "   17_group                         blended is_ml_student  \n",
       "0       0.0                                                \n",
       "1       0.0                                                \n",
       "2     173.0  Соревновательный анализ данных                \n",
       "3       0.0                                           1.0  \n",
       "4       0.0                                                "
      ]
     },
     "execution_count": 23,
     "metadata": {},
     "output_type": "execute_result"
    }
   ],
   "source": [
    "df.head()"
   ]
  },
  {
   "cell_type": "code",
   "execution_count": 24,
   "metadata": {},
   "outputs": [
    {
     "data": {
      "text/plain": [
       "0      18\n",
       "1      18\n",
       "2      18\n",
       "3      18\n",
       "4      18\n",
       "       ..\n",
       "342    18\n",
       "343    18\n",
       "344    18\n",
       "345    18\n",
       "346    18\n",
       "Name: timestamp, Length: 347, dtype: int64"
      ]
     },
     "execution_count": 24,
     "metadata": {},
     "output_type": "execute_result"
    }
   ],
   "source": [
    "from datetime import datetime as dt\n",
    "df['timestamp'].dt.day"
   ]
  },
  {
   "cell_type": "code",
   "execution_count": 25,
   "metadata": {},
   "outputs": [
    {
     "data": {
      "text/plain": [
       "<BarContainer object of 10 artists>"
      ]
     },
     "execution_count": 25,
     "metadata": {},
     "output_type": "execute_result"
    },
    {
     "data": {
      "image/png": "[encoded data removed]",
      "text/plain": [
       "<Figure size 800x500 with 1 Axes>"
      ]
     },
     "metadata": {
      "image/png": {
       "height": 430,
       "width": 686
      }
     },
     "output_type": "display_data"
    }
   ],
   "source": [
    "temp = df.copy()\n",
    "temp['day'] = temp['timestamp'].dt.day\n",
    "temp = temp.groupby('day').agg({'rating': 'mean'}).reset_index()\n",
    "\n",
    "plt.bar(x=temp['day'], height=temp['rating'])"
   ]
  },
  {
   "cell_type": "markdown",
   "metadata": {
    "id": "AmsQg9_xhLu2"
   },
   "source": [
    "Сохраните график в формате pdf (так он останется векторизованным)."
   ]
  },
  {
   "cell_type": "code",
   "execution_count": 26,
   "metadata": {
    "id": "vKZNSwWghLu2"
   },
   "outputs": [],
   "source": [
    "# your code\n",
    "plt.rcParams['savefig.format'] = 'pdf'"
   ]
  },
  {
   "cell_type": "markdown",
   "metadata": {
    "id": "sCgWwjl0hLu2"
   },
   "source": [
    "### 2. Распределение студентов по курсам."
   ]
  },
  {
   "cell_type": "markdown",
   "metadata": {},
   "source": [
    "<span style=\"color:red\">!!!ВНИМАТЕЛЬНО ИЗУЧИТЕ ТЕКСТ НИЖЕ!!!</span>.\n",
    "\n",
    "<span style=\"color:orange\">Если во время выполнения заданий у вас вознинут вопросы -- еще раз перечитайте текст целиком, скорее всего ответы уже содержатся в нем.</span>"
   ]
  },
  {
   "cell_type": "markdown",
   "metadata": {
    "id": "VNqXUpr4hLu3"
   },
   "source": [
    "Теперь вам нужно распределить студентов по осенним курсам по выбору, учитывая их предпочтения."
   ]
  },
  {
   "cell_type": "markdown",
   "metadata": {
    "id": "5cAR2FgphLu3"
   },
   "source": [
    "Алгоритм распределения студентов по курсам:\n",
    "1. По умолчанию на каждой дисциплине по выбору у 3 и 4 курсов может учиться 1 группа (до 30 студентов). Исключения описаны ниже. На blended-дисциплинах для четверокурсников количество мест не ограничено.\n",
    "2. Проводится первая волна отбора. Для каждой дисциплины формируется список тех, кто указал её первым приоритетом (если студент должен выбрать два курса по выбору, то для него дисциплины, которые он указал первым и вторым приоритетом, рассматриваются как дисциплины первого приоритета). Если желающих больше, чем мест, то выбирается топ по перцентилю рейтинга.\n",
    "3. На дисциплинах, где остались места после первой волны, формируются списки тех, кто выбрал их вторым приоритетом и еще не прошел на необходимое количество курсов. Места заполняются лучшими по перцентилю рейтинга студентами. После этого проводится такая же процедура для дисциплин третьего приоритета.\n",
    "4. Если студент не попал на необходимое количество курсов по итогам трёх волн, с ним связывается учебный офис и решает вопрос в индивидуальном порядке."
   ]
  },
  {
   "cell_type": "markdown",
   "metadata": {
    "id": "BiNKVwS6hLu3"
   },
   "source": [
    "Обращаем ваше внимание на следующие детали:\n",
    "- Конкурс на каждый курс общий для 3-го и 4-го курса\n",
    "\n",
    "- По умолчанию студент выбирает один осенний и один весенний курс по выбору, а также четверокурсники выбирают один blended-курс. Студенты групп 17-го года специализаций МОП и ТИ выбирают по 2 осенних и 2 весенних курса по выбору, также студенты групп 18' специализации МИ выбирают 2 осенних курса. <i>Для студентов, которые выбирают 2 курса (например, осенних) первый приоритет — <code>fall_1</code> и <code>fall_2</code>, второй приоритет — <code>fall_3</code>. Такие студенты участвуют только в двух волнах отбора</i>.\n",
    "\n",
    "- Студенты специализации МОП не могут выбрать весенним курсом по выбору Машинное обучение 2. **Если студент специализации МОП выбрал Машинное обучение 2, то его приоритеты сдвигаются.** Из-за совпадений первого и второго курса по выбору двигать приоритеты не надо.\n",
    "\n",
    "- Blended-курсы не трогайте, по ним не надо распределять, на другие курсы они никак не влияют.\n",
    "\n",
    "- Заведомо известно, что в процессе распределения не возникнет ситуации, когда на одно место претендуют студенты с одинаковым перцентилем.\n",
    "\n",
    "- Постарайтесь воздержаться от использования циклов там, где это возможно. <i>Допустимо итерироваться по <b>курсам</b>, на которые проводится отбор, и по <b>волнам</b> отбора. Если вы придумаете, как обойтись и без этих циклов, то на усмотрение проверяющего могут быть добавлены бонусные баллы. <b>Дублирование кода не признается успешным избавлением от циклов</b></i>\n",
    "\n",
    "- На выходе ожидается файл res_fall.csv с результатами распределения на осенние курсы по выбору. Файл должен быть следующего формата:\n",
    "\n",
    "    * Три колонки: ID, course1, course2\n",
    "    \n",
    "    * Если студент не попал на курс, но должен был, то вместо названия курса в ячейке должна быть строка \"???\"\n",
    "    \n",
    "    * Если студент должен выбрать только один курс, то в колонке course2 для него должна стоять строка \"-\"\n",
    "    \n",
    "    * Если студент должен выбрать два курса по выбору, то порядок в колонках course1 и course2 не важен.\n",
    "    \n",
    "    * hint: для сохранения воспользуйтесь df.to_csv('solution.csv', index=None)\n",
    "    \n",
    "\n",
    "Для работы вам могут понадобиться следующие данные:\n",
    "\n",
    "- Результаты опроса (вы уже использовали этот файл в первой части задания, но на всякий случай ссылка: https://www.dropbox.com/s/f4rm8sjc3v99p0m/_end_seminar.xlsx?dl=0)\n",
    "\n",
    "- Соответствие номеров групп специализациям:\n",
    "\n",
    "    * 171, 172 - МОП; 173 - ТИ; 174 — АДИС; 175, 176 — РС; 177 — АПР\n",
    "    \n",
    "    * У студентов 18-го года номера групп соответствуют номерам до распределения по специализациям. Это означает, что по номеру группы 18* нельзя однозначно определить специализацию студента. При этом в рамках распределения важно знать информацию только о двух из них: МОП и МИ. Эти знание можно получить из колонок 'is_ml_student\n",
    "' и 'is_mi' соответственно.\n",
    "\n",
    "- Ограничения по количеству мест на курсах по выбору:\n",
    "\n",
    "    * Осенние: везде 30 мест, кроме Statistical Learning Theory (60 мест), Высокопроизводительных вычислений (60 мест), Анализа неструктурированных данных ($\\infty$ мест)\n",
    "\n",
    "    * Весенние: везде 30 мест, кроме Обучения с подкреплением (60 мест), Анализа данных в бизнесе (60 мест).\n",
    "\n",
    "\n",
    "Кстати, убедитесь, что в данных больше нет пропусков и повторных записей."
   ]
  },
  {
   "cell_type": "markdown",
   "metadata": {
    "id": "o5t55IcQhLu4"
   },
   "source": [
    "#### 0. Проверка\n",
    "\n",
    "Для начала давайте убедимся, что вы успешно выполнили задания первой части и проверим ваши данные на наличие пропусков и повторов:"
   ]
  },
  {
   "cell_type": "code",
   "execution_count": 27,
   "metadata": {
    "id": "34HWEdVdhLu4"
   },
   "outputs": [],
   "source": [
    "assert df.shape[0] == 347, 'В таблице остались повторы или потеряны данные'\n",
    "\n",
    "assert df.isna().sum().sum() == 0, 'В таблице остались пропуски'"
   ]
  },
  {
   "cell_type": "markdown",
   "metadata": {
    "id": "_ImUFyG3hLu4"
   },
   "source": [
    "Если вы не получили AssertionError, то можете продолжать."
   ]
  },
  {
   "cell_type": "markdown",
   "metadata": {
    "id": "LTGSwwvAhLu4"
   },
   "source": [
    "#### 1. [1 балл] Создайте новый признак, обозначающий, сколько осенних курсов должен выбрать студент\n",
    "\n",
    "В этом вам может помочь информация о специализации и группе стундента."
   ]
  },
  {
   "cell_type": "code",
   "execution_count": 28,
   "metadata": {},
   "outputs": [
    {
     "data": {
      "text/plain": [
       "(56, 16)"
      ]
     },
     "execution_count": 28,
     "metadata": {},
     "output_type": "execute_result"
    }
   ],
   "source": [
    "df[df['is_ml_student']==1].shape"
   ]
  },
  {
   "cell_type": "code",
   "execution_count": 29,
   "metadata": {
    "id": "ouxo0kHFhLu4"
   },
   "outputs": [],
   "source": [
    "# (￣^￣)ゞ\n",
    "def is_mop_ti_mi(row):\n",
    "    if (row['17_group'] in [171, 172]) or row['is_mi'] == 1 or row['is_ml_student'] == True:\n",
    "        return 2 \n",
    "    return 1\n",
    "\n",
    "\n",
    "df['count_corse_fall'] = df.apply(is_mop_ti_mi, axis=1)"
   ]
  },
  {
   "cell_type": "markdown",
   "metadata": {
    "id": "S47aq1sQhLu4"
   },
   "source": [
    "Проверка:"
   ]
  },
  {
   "cell_type": "code",
   "execution_count": 30,
   "metadata": {
    "id": "OlOgzDKDhLu5"
   },
   "outputs": [],
   "source": [
    "col_name = 'count_corse_fall'    # insert your new column name as str\n",
    "\n",
    "assert(df[df['id'] == '2662600c2c37e11e62f6ee0b88452f22'][col_name] == 2).all()\n",
    "assert(df[df['id'] == 'd555d2805e1d93d4f023e57dc4c8f403'][col_name] == 2).all()\n",
    "assert(df[df['id'] == '8fe79f84f36e3a5d2d6745621321302c'][col_name] == 1).all()\n",
    "assert(df[df['id'] == 'e4caca755ee0bdd711e18fb8084958b5'][col_name] == 1).all()"
   ]
  },
  {
   "cell_type": "markdown",
   "metadata": {
    "id": "VtQYhwuPhLu5"
   },
   "source": [
    "#### 2. [2 балла] Распределите студентов в соответствии с первым приоритетом"
   ]
  },
  {
   "cell_type": "code",
   "execution_count": 31,
   "metadata": {
    "id": "6gWfT3vqhLu5"
   },
   "outputs": [],
   "source": [
    "# (￣^￣)ゞ"
   ]
  },
  {
   "cell_type": "code",
   "execution_count": 32,
   "metadata": {},
   "outputs": [],
   "source": [
    "from collections import defaultdict"
   ]
  },
  {
   "cell_type": "code",
   "execution_count": 74,
   "metadata": {},
   "outputs": [],
   "source": [
    "fall_ = np.unique(df[['fall_1', 'fall_2', 'fall_3']])\n",
    "fall_courses = dict()\n",
    "for fall in fall_:\n",
    "    fall_courses[fall] = 30\n",
    "fall_courses['Statistical Learning Theory'] = 60\n",
    "fall_courses['Высокопроизводительные вычисления'] = 60\n",
    "fall_courses['Анализ неструктурированных данных'] = len(df)"
   ]
  },
  {
   "cell_type": "code",
   "execution_count": 75,
   "metadata": {},
   "outputs": [],
   "source": [
    "fall_result = defaultdict(list)\n",
    "df = df.sort_values('percentile', ascending=True)\n",
    "def first_valve(row):\n",
    "    fall_result[row['id']].append(row['percentile'])\n",
    "    if fall_courses[row['fall_1']] > 0:\n",
    "        fall_courses[row['fall_1']] -= 1\n",
    "        fall_result[row['id']].append(row['fall_1'])\n",
    "        if row['count_corse_fall'] == 2:\n",
    "            if fall_courses[row['fall_2']] > 0 and row['fall_2'] not in fall_result[row['id']]:\n",
    "                fall_courses[row['fall_2']] -= 1\n",
    "                fall_result[row['id']].append(row['fall_2'])\n",
    "            elif fall_courses[row['fall_3']] > 0 and row['fall_3'] not in fall_result[row['id']]:\n",
    "                fall_courses[row['fall_3']] -= 1\n",
    "                fall_result[row['id']].append(row['fall_3'])\n",
    "            else:\n",
    "                fall_result[row['id']].append('???')\n",
    "        else:\n",
    "            fall_result[row['id']].append('-')\n",
    "    elif fall_courses[row['fall_2']] > 0:\n",
    "        fall_courses[row['fall_2']] -= 1\n",
    "        fall_result[row['id']].append(row['fall_2'])\n",
    "        if row['count_corse_fall'] == 2:\n",
    "            if fall_courses[row['fall_3']] > 0 and row['fall_3'] not in fall_result[row['id']]:\n",
    "                fall_courses[row['fall_3']] -= 1\n",
    "                fall_result[row['id']].append(row['fall_3'])\n",
    "            else:\n",
    "                fall_result[row['id']].append('???')\n",
    "        else:\n",
    "            fall_result[row['id']].append('-')\n",
    "    elif fall_courses[row['fall_3']] > 0:\n",
    "        fall_courses[row['fall_3']] -= 1\n",
    "        fall_result[row['id']].append(row['fall_3'])\n",
    "        if row['count_corse_fall'] == 2:\n",
    "            fall_result[row['id']].append('???')\n",
    "        else:\n",
    "            fall_result[row['id']].append('-')\n",
    "    else:\n",
    "        fall_result[row['id']].append('???')\n",
    "        if row['count_corse_fall'] == 2:\n",
    "            fall_result[row['id']].append('???')\n",
    "        else:\n",
    "            fall_result[row['id']].append('-')"
   ]
  },
  {
   "cell_type": "code",
   "execution_count": 76,
   "metadata": {},
   "outputs": [],
   "source": [
    "temp = df.apply(first_valve, axis=1)"
   ]
  },
  {
   "cell_type": "code",
   "execution_count": 77,
   "metadata": {},
   "outputs": [
    {
     "data": {
      "text/plain": [
       "347"
      ]
     },
     "execution_count": 77,
     "metadata": {},
     "output_type": "execute_result"
    }
   ],
   "source": [
    "len(fall_result)"
   ]
  },
  {
   "cell_type": "code",
   "execution_count": 78,
   "metadata": {},
   "outputs": [
    {
     "data": {
      "text/html": [
       "<div>\n",
       "<style scoped>\n",
       "    .dataframe tbody tr th:only-of-type {\n",
       "        vertical-align: middle;\n",
       "    }\n",
       "\n",
       "    .dataframe tbody tr th {\n",
       "        vertical-align: top;\n",
       "    }\n",
       "\n",
       "    .dataframe thead th {\n",
       "        text-align: right;\n",
       "    }\n",
       "</style>\n",
       "<table border=\"1\" class=\"dataframe\">\n",
       "  <thead>\n",
       "    <tr style=\"text-align: right;\">\n",
       "      <th></th>\n",
       "      <th>id</th>\n",
       "      <th>timestamp</th>\n",
       "      <th>rating</th>\n",
       "      <th>18_group</th>\n",
       "      <th>is_mi</th>\n",
       "      <th>fall_1</th>\n",
       "      <th>fall_2</th>\n",
       "      <th>fall_3</th>\n",
       "      <th>spring_1</th>\n",
       "      <th>spring_2</th>\n",
       "      <th>spring_3</th>\n",
       "      <th>is_first_time</th>\n",
       "      <th>percentile</th>\n",
       "      <th>17_group</th>\n",
       "      <th>blended</th>\n",
       "      <th>is_ml_student</th>\n",
       "      <th>count_corse_fall</th>\n",
       "    </tr>\n",
       "  </thead>\n",
       "  <tbody>\n",
       "    <tr>\n",
       "      <th>66</th>\n",
       "      <td>3a7326c9e355a67d3805824ca34c4bc5</td>\n",
       "      <td>2020-05-14 21:52:43.844</td>\n",
       "      <td>1457</td>\n",
       "      <td>0.0</td>\n",
       "      <td></td>\n",
       "      <td>Statistical Learning Theory</td>\n",
       "      <td>Высокопроизводительные вычисления</td>\n",
       "      <td>Statistical Learning Theory</td>\n",
       "      <td>Символьные вычисления</td>\n",
       "      <td>Численные методы</td>\n",
       "      <td>Символьные вычисления</td>\n",
       "      <td>Да</td>\n",
       "      <td>0.000000</td>\n",
       "      <td>173.0</td>\n",
       "      <td>Введение в дифференциальную геометрию</td>\n",
       "      <td></td>\n",
       "      <td>1</td>\n",
       "    </tr>\n",
       "    <tr>\n",
       "      <th>71</th>\n",
       "      <td>3e106aaef8b24dbb01319c73e14c2936</td>\n",
       "      <td>2020-05-18 17:09:23.589</td>\n",
       "      <td>784</td>\n",
       "      <td>182.0</td>\n",
       "      <td></td>\n",
       "      <td>Безопасность компьютерных систем</td>\n",
       "      <td>Statistical Learning Theory</td>\n",
       "      <td>Матричные вычисления</td>\n",
       "      <td>Дискретная оптимизация</td>\n",
       "      <td>Промышленное программирование на языке Java</td>\n",
       "      <td>Дополнительные главы прикладной статистики</td>\n",
       "      <td>Да</td>\n",
       "      <td>0.000000</td>\n",
       "      <td>0.0</td>\n",
       "      <td></td>\n",
       "      <td>1.0</td>\n",
       "      <td>2</td>\n",
       "    </tr>\n",
       "    <tr>\n",
       "      <th>296</th>\n",
       "      <td>e0ca1a9548af9a3f98428c62420aa484</td>\n",
       "      <td>2020-05-18 18:03:57.347</td>\n",
       "      <td>764</td>\n",
       "      <td>182.0</td>\n",
       "      <td></td>\n",
       "      <td>Матричные вычисления</td>\n",
       "      <td>Безопасность компьютерных систем</td>\n",
       "      <td>Statistical Learning Theory</td>\n",
       "      <td>Дискретная оптимизация</td>\n",
       "      <td>Дополнительные главы прикладной статистики</td>\n",
       "      <td>Машинное обучение 2</td>\n",
       "      <td>Да</td>\n",
       "      <td>0.004484</td>\n",
       "      <td>0.0</td>\n",
       "      <td></td>\n",
       "      <td></td>\n",
       "      <td>1</td>\n",
       "    </tr>\n",
       "    <tr>\n",
       "      <th>158</th>\n",
       "      <td>7fe7df0d207babbf30249b3063ac1f26</td>\n",
       "      <td>2020-05-18 12:39:47.722</td>\n",
       "      <td>1365</td>\n",
       "      <td>0.0</td>\n",
       "      <td></td>\n",
       "      <td>Высокопроизводительные вычисления</td>\n",
       "      <td>Сбор и обработка данных с помощью краудсорсинга</td>\n",
       "      <td>Моделирование временных рядов</td>\n",
       "      <td>Проектирование и разработка высоконагруженных ...</td>\n",
       "      <td>Методы сжатия и передачи медиаданных</td>\n",
       "      <td>Методы сжатия и передачи медиаданных</td>\n",
       "      <td>Да</td>\n",
       "      <td>0.007246</td>\n",
       "      <td>175.0</td>\n",
       "      <td>DevOps</td>\n",
       "      <td></td>\n",
       "      <td>1</td>\n",
       "    </tr>\n",
       "    <tr>\n",
       "      <th>169</th>\n",
       "      <td>86d929f6fd741e56e93cee5900298849</td>\n",
       "      <td>2020-05-15 21:34:32.550</td>\n",
       "      <td>761</td>\n",
       "      <td>181.0</td>\n",
       "      <td></td>\n",
       "      <td>Сбор и обработка данных с помощью краудсорсинга</td>\n",
       "      <td>Сбор и обработка данных с помощью краудсорсинга</td>\n",
       "      <td>Сбор и обработка данных с помощью краудсорсинга</td>\n",
       "      <td>Дополнительные главы прикладной статистики</td>\n",
       "      <td>Дополнительные главы прикладной статистики</td>\n",
       "      <td>Дополнительные главы прикладной статистики</td>\n",
       "      <td>Да</td>\n",
       "      <td>0.008969</td>\n",
       "      <td>0.0</td>\n",
       "      <td></td>\n",
       "      <td></td>\n",
       "      <td>1</td>\n",
       "    </tr>\n",
       "    <tr>\n",
       "      <th>...</th>\n",
       "      <td>...</td>\n",
       "      <td>...</td>\n",
       "      <td>...</td>\n",
       "      <td>...</td>\n",
       "      <td>...</td>\n",
       "      <td>...</td>\n",
       "      <td>...</td>\n",
       "      <td>...</td>\n",
       "      <td>...</td>\n",
       "      <td>...</td>\n",
       "      <td>...</td>\n",
       "      <td>...</td>\n",
       "      <td>...</td>\n",
       "      <td>...</td>\n",
       "      <td>...</td>\n",
       "      <td>...</td>\n",
       "      <td>...</td>\n",
       "    </tr>\n",
       "    <tr>\n",
       "      <th>147</th>\n",
       "      <td>79d14db48e4737af731960ae212d5134</td>\n",
       "      <td>2020-05-23 21:16:40.916</td>\n",
       "      <td>966</td>\n",
       "      <td>0.0</td>\n",
       "      <td></td>\n",
       "      <td>Безопасность компьютерных систем</td>\n",
       "      <td>Принятие решений в условиях риска и неопределё...</td>\n",
       "      <td>Анализ неструктурированных данных</td>\n",
       "      <td>Проектирование и разработка высоконагруженных ...</td>\n",
       "      <td>Методы сжатия и передачи медиаданных</td>\n",
       "      <td>Компьютерное зрение</td>\n",
       "      <td>Да</td>\n",
       "      <td>0.985507</td>\n",
       "      <td>172.0</td>\n",
       "      <td>DevOps</td>\n",
       "      <td></td>\n",
       "      <td>2</td>\n",
       "    </tr>\n",
       "    <tr>\n",
       "      <th>74</th>\n",
       "      <td>40b18d40197e3db66312a026e06b8ff1</td>\n",
       "      <td>2020-05-18 22:29:14.162</td>\n",
       "      <td>515</td>\n",
       "      <td>188.0</td>\n",
       "      <td></td>\n",
       "      <td>Безопасность компьютерных систем</td>\n",
       "      <td>Язык SQL</td>\n",
       "      <td>Сбор и обработка данных с помощью краудсорсинга</td>\n",
       "      <td>Промышленное программирование на языке Java</td>\n",
       "      <td>Компьютерные сети</td>\n",
       "      <td>Анализ данных в бизнесе</td>\n",
       "      <td>Нет</td>\n",
       "      <td>0.986547</td>\n",
       "      <td>0.0</td>\n",
       "      <td></td>\n",
       "      <td></td>\n",
       "      <td>1</td>\n",
       "    </tr>\n",
       "    <tr>\n",
       "      <th>243</th>\n",
       "      <td>be4fa2120de3397ae21eac38ff0060e3</td>\n",
       "      <td>2020-05-18 21:12:00.134</td>\n",
       "      <td>502</td>\n",
       "      <td>187.0</td>\n",
       "      <td></td>\n",
       "      <td>Безопасность компьютерных систем</td>\n",
       "      <td>Язык SQL</td>\n",
       "      <td>Матричные вычисления</td>\n",
       "      <td>Промышленное программирование на языке Java</td>\n",
       "      <td>Численные методы</td>\n",
       "      <td>Машинное обучение 2</td>\n",
       "      <td>Да</td>\n",
       "      <td>0.991031</td>\n",
       "      <td>0.0</td>\n",
       "      <td></td>\n",
       "      <td></td>\n",
       "      <td>1</td>\n",
       "    </tr>\n",
       "    <tr>\n",
       "      <th>276</th>\n",
       "      <td>d539461bf254cf8b3201cdf7990b119e</td>\n",
       "      <td>2020-05-18 23:12:29.049</td>\n",
       "      <td>964</td>\n",
       "      <td>0.0</td>\n",
       "      <td></td>\n",
       "      <td>Анализ неструктурированных данных</td>\n",
       "      <td>Глубинное обучение в обработке звука</td>\n",
       "      <td>Statistical Learning Theory</td>\n",
       "      <td>Обучение с подкреплением</td>\n",
       "      <td>Компьютерное зрение</td>\n",
       "      <td>Проектирование и разработка высоконагруженных ...</td>\n",
       "      <td>Да</td>\n",
       "      <td>0.992754</td>\n",
       "      <td>174.0</td>\n",
       "      <td>DevOps</td>\n",
       "      <td></td>\n",
       "      <td>1</td>\n",
       "    </tr>\n",
       "    <tr>\n",
       "      <th>149</th>\n",
       "      <td>7a21ef645ecb42198be493dd65320e78</td>\n",
       "      <td>2020-05-20 11:34:10.787</td>\n",
       "      <td>495</td>\n",
       "      <td>188.0</td>\n",
       "      <td></td>\n",
       "      <td>Принятие решений в условиях риска и неопределё...</td>\n",
       "      <td>Язык SQL</td>\n",
       "      <td>Сбор и обработка данных с помощью краудсорсинга</td>\n",
       "      <td>Анализ данных в бизнесе</td>\n",
       "      <td>Промышленное программирование на языке Java</td>\n",
       "      <td>Дополнительные главы прикладной статистики</td>\n",
       "      <td>Да</td>\n",
       "      <td>0.995516</td>\n",
       "      <td>0.0</td>\n",
       "      <td></td>\n",
       "      <td></td>\n",
       "      <td>1</td>\n",
       "    </tr>\n",
       "  </tbody>\n",
       "</table>\n",
       "<p>347 rows × 17 columns</p>\n",
       "</div>"
      ],
      "text/plain": [
       "                                   id               timestamp  rating  \\\n",
       "66   3a7326c9e355a67d3805824ca34c4bc5 2020-05-14 21:52:43.844    1457   \n",
       "71   3e106aaef8b24dbb01319c73e14c2936 2020-05-18 17:09:23.589     784   \n",
       "296  e0ca1a9548af9a3f98428c62420aa484 2020-05-18 18:03:57.347     764   \n",
       "158  7fe7df0d207babbf30249b3063ac1f26 2020-05-18 12:39:47.722    1365   \n",
       "169  86d929f6fd741e56e93cee5900298849 2020-05-15 21:34:32.550     761   \n",
       "..                                ...                     ...     ...   \n",
       "147  79d14db48e4737af731960ae212d5134 2020-05-23 21:16:40.916     966   \n",
       "74   40b18d40197e3db66312a026e06b8ff1 2020-05-18 22:29:14.162     515   \n",
       "243  be4fa2120de3397ae21eac38ff0060e3 2020-05-18 21:12:00.134     502   \n",
       "276  d539461bf254cf8b3201cdf7990b119e 2020-05-18 23:12:29.049     964   \n",
       "149  7a21ef645ecb42198be493dd65320e78 2020-05-20 11:34:10.787     495   \n",
       "\n",
       "     18_group is_mi                                             fall_1  \\\n",
       "66        0.0                              Statistical Learning Theory   \n",
       "71      182.0                         Безопасность компьютерных систем   \n",
       "296     182.0                                     Матричные вычисления   \n",
       "158       0.0                        Высокопроизводительные вычисления   \n",
       "169     181.0          Сбор и обработка данных с помощью краудсорсинга   \n",
       "..        ...   ...                                                ...   \n",
       "147       0.0                         Безопасность компьютерных систем   \n",
       "74      188.0                         Безопасность компьютерных систем   \n",
       "243     187.0                         Безопасность компьютерных систем   \n",
       "276       0.0                        Анализ неструктурированных данных   \n",
       "149     188.0        Принятие решений в условиях риска и неопределё...   \n",
       "\n",
       "                                                fall_2  \\\n",
       "66                   Высокопроизводительные вычисления   \n",
       "71                         Statistical Learning Theory   \n",
       "296                   Безопасность компьютерных систем   \n",
       "158    Сбор и обработка данных с помощью краудсорсинга   \n",
       "169    Сбор и обработка данных с помощью краудсорсинга   \n",
       "..                                                 ...   \n",
       "147  Принятие решений в условиях риска и неопределё...   \n",
       "74                                            Язык SQL   \n",
       "243                                           Язык SQL   \n",
       "276               Глубинное обучение в обработке звука   \n",
       "149                                           Язык SQL   \n",
       "\n",
       "                                              fall_3  \\\n",
       "66                       Statistical Learning Theory   \n",
       "71                              Матричные вычисления   \n",
       "296                      Statistical Learning Theory   \n",
       "158                    Моделирование временных рядов   \n",
       "169  Сбор и обработка данных с помощью краудсорсинга   \n",
       "..                                               ...   \n",
       "147                Анализ неструктурированных данных   \n",
       "74   Сбор и обработка данных с помощью краудсорсинга   \n",
       "243                             Матричные вычисления   \n",
       "276                      Statistical Learning Theory   \n",
       "149  Сбор и обработка данных с помощью краудсорсинга   \n",
       "\n",
       "                                              spring_1  \\\n",
       "66                               Символьные вычисления   \n",
       "71                              Дискретная оптимизация   \n",
       "296                             Дискретная оптимизация   \n",
       "158  Проектирование и разработка высоконагруженных ...   \n",
       "169         Дополнительные главы прикладной статистики   \n",
       "..                                                 ...   \n",
       "147  Проектирование и разработка высоконагруженных ...   \n",
       "74         Промышленное программирование на языке Java   \n",
       "243        Промышленное программирование на языке Java   \n",
       "276                           Обучение с подкреплением   \n",
       "149                            Анализ данных в бизнесе   \n",
       "\n",
       "                                        spring_2  \\\n",
       "66                              Численные методы   \n",
       "71   Промышленное программирование на языке Java   \n",
       "296   Дополнительные главы прикладной статистики   \n",
       "158         Методы сжатия и передачи медиаданных   \n",
       "169   Дополнительные главы прикладной статистики   \n",
       "..                                           ...   \n",
       "147         Методы сжатия и передачи медиаданных   \n",
       "74                             Компьютерные сети   \n",
       "243                             Численные методы   \n",
       "276                          Компьютерное зрение   \n",
       "149  Промышленное программирование на языке Java   \n",
       "\n",
       "                                              spring_3 is_first_time  \\\n",
       "66                               Символьные вычисления            Да   \n",
       "71          Дополнительные главы прикладной статистики            Да   \n",
       "296                                Машинное обучение 2            Да   \n",
       "158               Методы сжатия и передачи медиаданных            Да   \n",
       "169         Дополнительные главы прикладной статистики            Да   \n",
       "..                                                 ...           ...   \n",
       "147                                Компьютерное зрение            Да   \n",
       "74                             Анализ данных в бизнесе           Нет   \n",
       "243                                Машинное обучение 2            Да   \n",
       "276  Проектирование и разработка высоконагруженных ...            Да   \n",
       "149         Дополнительные главы прикладной статистики            Да   \n",
       "\n",
       "     percentile  17_group                                blended  \\\n",
       "66     0.000000     173.0  Введение в дифференциальную геометрию   \n",
       "71     0.000000       0.0                                          \n",
       "296    0.004484       0.0                                          \n",
       "158    0.007246     175.0                                 DevOps   \n",
       "169    0.008969       0.0                                          \n",
       "..          ...       ...                                    ...   \n",
       "147    0.985507     172.0                                 DevOps   \n",
       "74     0.986547       0.0                                          \n",
       "243    0.991031       0.0                                          \n",
       "276    0.992754     174.0                                 DevOps   \n",
       "149    0.995516       0.0                                          \n",
       "\n",
       "    is_ml_student  count_corse_fall  \n",
       "66                                1  \n",
       "71            1.0                 2  \n",
       "296                               1  \n",
       "158                               1  \n",
       "169                               1  \n",
       "..            ...               ...  \n",
       "147                               2  \n",
       "74                                1  \n",
       "243                               1  \n",
       "276                               1  \n",
       "149                               1  \n",
       "\n",
       "[347 rows x 17 columns]"
      ]
     },
     "execution_count": 78,
     "metadata": {},
     "output_type": "execute_result"
    }
   ],
   "source": [
    "df"
   ]
  },
  {
   "cell_type": "code",
   "execution_count": 80,
   "metadata": {},
   "outputs": [],
   "source": [
    "x = pd.DataFrame(data=fall_result.values(), index=fall_result.keys(), columns=['percentile', 'course1', 'course2']).reset_index()\n",
    "\n",
    "x.columns = ['ID', 'percentile', 'course1', 'course2']"
   ]
  },
  {
   "cell_type": "code",
   "execution_count": 81,
   "metadata": {},
   "outputs": [
    {
     "data": {
      "text/html": [
       "<div>\n",
       "<style scoped>\n",
       "    .dataframe tbody tr th:only-of-type {\n",
       "        vertical-align: middle;\n",
       "    }\n",
       "\n",
       "    .dataframe tbody tr th {\n",
       "        vertical-align: top;\n",
       "    }\n",
       "\n",
       "    .dataframe thead th {\n",
       "        text-align: right;\n",
       "    }\n",
       "</style>\n",
       "<table border=\"1\" class=\"dataframe\">\n",
       "  <thead>\n",
       "    <tr style=\"text-align: right;\">\n",
       "      <th></th>\n",
       "      <th>ID</th>\n",
       "      <th>percentile</th>\n",
       "      <th>course1</th>\n",
       "      <th>course2</th>\n",
       "    </tr>\n",
       "  </thead>\n",
       "  <tbody>\n",
       "    <tr>\n",
       "      <th>0</th>\n",
       "      <td>3a7326c9e355a67d3805824ca34c4bc5</td>\n",
       "      <td>0.000000</td>\n",
       "      <td>Statistical Learning Theory</td>\n",
       "      <td>-</td>\n",
       "    </tr>\n",
       "    <tr>\n",
       "      <th>1</th>\n",
       "      <td>3e106aaef8b24dbb01319c73e14c2936</td>\n",
       "      <td>0.000000</td>\n",
       "      <td>Безопасность компьютерных систем</td>\n",
       "      <td>Statistical Learning Theory</td>\n",
       "    </tr>\n",
       "    <tr>\n",
       "      <th>2</th>\n",
       "      <td>e0ca1a9548af9a3f98428c62420aa484</td>\n",
       "      <td>0.004484</td>\n",
       "      <td>Матричные вычисления</td>\n",
       "      <td>-</td>\n",
       "    </tr>\n",
       "    <tr>\n",
       "      <th>3</th>\n",
       "      <td>7fe7df0d207babbf30249b3063ac1f26</td>\n",
       "      <td>0.007246</td>\n",
       "      <td>Высокопроизводительные вычисления</td>\n",
       "      <td>-</td>\n",
       "    </tr>\n",
       "    <tr>\n",
       "      <th>4</th>\n",
       "      <td>86d929f6fd741e56e93cee5900298849</td>\n",
       "      <td>0.008969</td>\n",
       "      <td>Сбор и обработка данных с помощью краудсорсинга</td>\n",
       "      <td>-</td>\n",
       "    </tr>\n",
       "    <tr>\n",
       "      <th>...</th>\n",
       "      <td>...</td>\n",
       "      <td>...</td>\n",
       "      <td>...</td>\n",
       "      <td>...</td>\n",
       "    </tr>\n",
       "    <tr>\n",
       "      <th>342</th>\n",
       "      <td>79d14db48e4737af731960ae212d5134</td>\n",
       "      <td>0.985507</td>\n",
       "      <td>Принятие решений в условиях риска и неопределё...</td>\n",
       "      <td>Анализ неструктурированных данных</td>\n",
       "    </tr>\n",
       "    <tr>\n",
       "      <th>343</th>\n",
       "      <td>40b18d40197e3db66312a026e06b8ff1</td>\n",
       "      <td>0.986547</td>\n",
       "      <td>???</td>\n",
       "      <td>-</td>\n",
       "    </tr>\n",
       "    <tr>\n",
       "      <th>344</th>\n",
       "      <td>be4fa2120de3397ae21eac38ff0060e3</td>\n",
       "      <td>0.991031</td>\n",
       "      <td>???</td>\n",
       "      <td>-</td>\n",
       "    </tr>\n",
       "    <tr>\n",
       "      <th>345</th>\n",
       "      <td>d539461bf254cf8b3201cdf7990b119e</td>\n",
       "      <td>0.992754</td>\n",
       "      <td>Анализ неструктурированных данных</td>\n",
       "      <td>-</td>\n",
       "    </tr>\n",
       "    <tr>\n",
       "      <th>346</th>\n",
       "      <td>7a21ef645ecb42198be493dd65320e78</td>\n",
       "      <td>0.995516</td>\n",
       "      <td>Принятие решений в условиях риска и неопределё...</td>\n",
       "      <td>-</td>\n",
       "    </tr>\n",
       "  </tbody>\n",
       "</table>\n",
       "<p>347 rows × 4 columns</p>\n",
       "</div>"
      ],
      "text/plain": [
       "                                   ID  percentile  \\\n",
       "0    3a7326c9e355a67d3805824ca34c4bc5    0.000000   \n",
       "1    3e106aaef8b24dbb01319c73e14c2936    0.000000   \n",
       "2    e0ca1a9548af9a3f98428c62420aa484    0.004484   \n",
       "3    7fe7df0d207babbf30249b3063ac1f26    0.007246   \n",
       "4    86d929f6fd741e56e93cee5900298849    0.008969   \n",
       "..                                ...         ...   \n",
       "342  79d14db48e4737af731960ae212d5134    0.985507   \n",
       "343  40b18d40197e3db66312a026e06b8ff1    0.986547   \n",
       "344  be4fa2120de3397ae21eac38ff0060e3    0.991031   \n",
       "345  d539461bf254cf8b3201cdf7990b119e    0.992754   \n",
       "346  7a21ef645ecb42198be493dd65320e78    0.995516   \n",
       "\n",
       "                                               course1  \\\n",
       "0                          Statistical Learning Theory   \n",
       "1                     Безопасность компьютерных систем   \n",
       "2                                 Матричные вычисления   \n",
       "3                    Высокопроизводительные вычисления   \n",
       "4      Сбор и обработка данных с помощью краудсорсинга   \n",
       "..                                                 ...   \n",
       "342  Принятие решений в условиях риска и неопределё...   \n",
       "343                                                ???   \n",
       "344                                                ???   \n",
       "345                  Анализ неструктурированных данных   \n",
       "346  Принятие решений в условиях риска и неопределё...   \n",
       "\n",
       "                               course2  \n",
       "0                                    -  \n",
       "1          Statistical Learning Theory  \n",
       "2                                    -  \n",
       "3                                    -  \n",
       "4                                    -  \n",
       "..                                 ...  \n",
       "342  Анализ неструктурированных данных  \n",
       "343                                  -  \n",
       "344                                  -  \n",
       "345                                  -  \n",
       "346                                  -  \n",
       "\n",
       "[347 rows x 4 columns]"
      ]
     },
     "execution_count": 81,
     "metadata": {},
     "output_type": "execute_result"
    }
   ],
   "source": [
    "x"
   ]
  },
  {
   "cell_type": "code",
   "execution_count": null,
   "metadata": {},
   "outputs": [],
   "source": []
  },
  {
   "cell_type": "code",
   "execution_count": 56,
   "metadata": {},
   "outputs": [],
   "source": [
    "x.to_csv('res_fall.csv', index=None)"
   ]
  },
  {
   "cell_type": "markdown",
   "metadata": {
    "id": "vc5zXP5hhLu5"
   },
   "source": [
    "Здесь для проверки приведена таблица, в которой есть 2 дополнительные колонки:\n",
    "    \n",
    "    1) is_first_place - является ли студент лучшим по перцентили хотя бы на одном из курсов, куда он был зачислен \n",
    "    (True / NaN)\n",
    "    \n",
    "    2) is_last_place  - является ли студент худшим по перцентили хотя бы на одном из курсов, куда он был зачислен (True / NaN)"
   ]
  },
  {
   "cell_type": "code",
   "execution_count": 84,
   "metadata": {},
   "outputs": [
    {
     "data": {
      "text/html": [
       "<div>\n",
       "<style scoped>\n",
       "    .dataframe tbody tr th:only-of-type {\n",
       "        vertical-align: middle;\n",
       "    }\n",
       "\n",
       "    .dataframe tbody tr th {\n",
       "        vertical-align: top;\n",
       "    }\n",
       "\n",
       "    .dataframe thead th {\n",
       "        text-align: right;\n",
       "    }\n",
       "</style>\n",
       "<table border=\"1\" class=\"dataframe\">\n",
       "  <thead>\n",
       "    <tr style=\"text-align: right;\">\n",
       "      <th></th>\n",
       "      <th>id</th>\n",
       "      <th>timestamp</th>\n",
       "      <th>rating</th>\n",
       "      <th>18_group</th>\n",
       "      <th>is_mi</th>\n",
       "      <th>fall_1</th>\n",
       "      <th>fall_2</th>\n",
       "      <th>fall_3</th>\n",
       "      <th>spring_1</th>\n",
       "      <th>spring_2</th>\n",
       "      <th>spring_3</th>\n",
       "      <th>is_first_time</th>\n",
       "      <th>percentile</th>\n",
       "      <th>17_group</th>\n",
       "      <th>blended</th>\n",
       "      <th>is_ml_student</th>\n",
       "      <th>count_corse_fall</th>\n",
       "    </tr>\n",
       "  </thead>\n",
       "  <tbody>\n",
       "    <tr>\n",
       "      <th>1</th>\n",
       "      <td>014b72217e20370dab7acc48b20c47be</td>\n",
       "      <td>2020-05-18 16:47:43.131</td>\n",
       "      <td>543</td>\n",
       "      <td>186.0</td>\n",
       "      <td></td>\n",
       "      <td>Сбор и обработка данных с помощью краудсорсинга</td>\n",
       "      <td>Statistical Learning Theory</td>\n",
       "      <td>Матричные вычисления</td>\n",
       "      <td>Системы баз данных</td>\n",
       "      <td>Машинное обучение 2</td>\n",
       "      <td>Дискретная оптимизация</td>\n",
       "      <td>Да</td>\n",
       "      <td>0.892377</td>\n",
       "      <td>0.0</td>\n",
       "      <td></td>\n",
       "      <td></td>\n",
       "      <td>1</td>\n",
       "    </tr>\n",
       "  </tbody>\n",
       "</table>\n",
       "</div>"
      ],
      "text/plain": [
       "                                 id               timestamp  rating  18_group  \\\n",
       "1  014b72217e20370dab7acc48b20c47be 2020-05-18 16:47:43.131     543     186.0   \n",
       "\n",
       "  is_mi                                           fall_1  \\\n",
       "1        Сбор и обработка данных с помощью краудсорсинга   \n",
       "\n",
       "                        fall_2                fall_3            spring_1  \\\n",
       "1  Statistical Learning Theory  Матричные вычисления  Системы баз данных   \n",
       "\n",
       "              spring_2                spring_3 is_first_time  percentile  \\\n",
       "1  Машинное обучение 2  Дискретная оптимизация            Да    0.892377   \n",
       "\n",
       "   17_group blended is_ml_student  count_corse_fall  \n",
       "1       0.0                                       1  "
      ]
     },
     "execution_count": 84,
     "metadata": {},
     "output_type": "execute_result"
    }
   ],
   "source": [
    "df[df['id']=='014b72217e20370dab7acc48b20c47be']"
   ]
  },
  {
   "cell_type": "code",
   "execution_count": 73,
   "metadata": {},
   "outputs": [
    {
     "data": {
      "text/html": [
       "<div>\n",
       "<style scoped>\n",
       "    .dataframe tbody tr th:only-of-type {\n",
       "        vertical-align: middle;\n",
       "    }\n",
       "\n",
       "    .dataframe tbody tr th {\n",
       "        vertical-align: top;\n",
       "    }\n",
       "\n",
       "    .dataframe thead th {\n",
       "        text-align: right;\n",
       "    }\n",
       "</style>\n",
       "<table border=\"1\" class=\"dataframe\">\n",
       "  <thead>\n",
       "    <tr style=\"text-align: right;\">\n",
       "      <th></th>\n",
       "      <th>id</th>\n",
       "      <th>course1</th>\n",
       "      <th>course2</th>\n",
       "    </tr>\n",
       "  </thead>\n",
       "  <tbody>\n",
       "    <tr>\n",
       "      <th>0</th>\n",
       "      <td>3a7326c9e355a67d3805824ca34c4bc5</td>\n",
       "      <td>Statistical Learning Theory</td>\n",
       "      <td>-</td>\n",
       "    </tr>\n",
       "  </tbody>\n",
       "</table>\n",
       "</div>"
      ],
      "text/plain": [
       "                                 id                      course1 course2\n",
       "0  3a7326c9e355a67d3805824ca34c4bc5  Statistical Learning Theory       -"
      ]
     },
     "execution_count": 73,
     "metadata": {},
     "output_type": "execute_result"
    }
   ],
   "source": [
    "x[x['id']=='3a7326c9e355a67d3805824ca34c4bc5']"
   ]
  },
  {
   "cell_type": "code",
   "execution_count": 61,
   "metadata": {},
   "outputs": [],
   "source": [
    "x.columns = ['id', 'course1', 'course2']"
   ]
  },
  {
   "cell_type": "code",
   "execution_count": 63,
   "metadata": {},
   "outputs": [],
   "source": [
    "temp = df.merge(x, on='id', how='inner')"
   ]
  },
  {
   "cell_type": "code",
   "execution_count": 83,
   "metadata": {},
   "outputs": [
    {
     "data": {
      "text/html": [
       "<div>\n",
       "<style scoped>\n",
       "    .dataframe tbody tr th:only-of-type {\n",
       "        vertical-align: middle;\n",
       "    }\n",
       "\n",
       "    .dataframe tbody tr th {\n",
       "        vertical-align: top;\n",
       "    }\n",
       "\n",
       "    .dataframe thead th {\n",
       "        text-align: right;\n",
       "    }\n",
       "</style>\n",
       "<table border=\"1\" class=\"dataframe\">\n",
       "  <thead>\n",
       "    <tr style=\"text-align: right;\">\n",
       "      <th></th>\n",
       "      <th>course1</th>\n",
       "      <th>ID</th>\n",
       "      <th>percentile</th>\n",
       "      <th>course2</th>\n",
       "    </tr>\n",
       "  </thead>\n",
       "  <tbody>\n",
       "    <tr>\n",
       "      <th>0</th>\n",
       "      <td>???</td>\n",
       "      <td>00b40fe7dbfd23e5daba765244509415</td>\n",
       "      <td>0.536232</td>\n",
       "      <td>-</td>\n",
       "    </tr>\n",
       "    <tr>\n",
       "      <th>1</th>\n",
       "      <td>Statistical Learning Theory</td>\n",
       "      <td>014b72217e20370dab7acc48b20c47be</td>\n",
       "      <td>0.000000</td>\n",
       "      <td>-</td>\n",
       "    </tr>\n",
       "    <tr>\n",
       "      <th>2</th>\n",
       "      <td>Анализ неструктурированных данных</td>\n",
       "      <td>01b072a0cdb45814fc4ab8ca3e621f0e</td>\n",
       "      <td>0.050725</td>\n",
       "      <td>-</td>\n",
       "    </tr>\n",
       "    <tr>\n",
       "      <th>3</th>\n",
       "      <td>Байесовские методы машинного обучения</td>\n",
       "      <td>276e2ccf4903d4ddf856b20a2b08394e</td>\n",
       "      <td>0.014493</td>\n",
       "      <td>-</td>\n",
       "    </tr>\n",
       "    <tr>\n",
       "      <th>4</th>\n",
       "      <td>Безопасность компьютерных систем</td>\n",
       "      <td>044e038535ae5d2ff037150b77fdc6d1</td>\n",
       "      <td>0.000000</td>\n",
       "      <td>-</td>\n",
       "    </tr>\n",
       "    <tr>\n",
       "      <th>5</th>\n",
       "      <td>Высокопроизводительные вычисления</td>\n",
       "      <td>07b6ce7fd93bde95ce5fe14a5131a960</td>\n",
       "      <td>0.007246</td>\n",
       "      <td>-</td>\n",
       "    </tr>\n",
       "    <tr>\n",
       "      <th>6</th>\n",
       "      <td>Глубинное обучение в обработке звука</td>\n",
       "      <td>15163c0c088c0ba42e1c77c9f3eabc81</td>\n",
       "      <td>0.079710</td>\n",
       "      <td>-</td>\n",
       "    </tr>\n",
       "    <tr>\n",
       "      <th>7</th>\n",
       "      <td>Матричные вычисления</td>\n",
       "      <td>081eba3952cfc116e0e9b941d6a974a2</td>\n",
       "      <td>0.004484</td>\n",
       "      <td>-</td>\n",
       "    </tr>\n",
       "    <tr>\n",
       "      <th>8</th>\n",
       "      <td>Моделирование временных рядов</td>\n",
       "      <td>253bbe1a2021d0404712a1e4acd22939</td>\n",
       "      <td>0.107623</td>\n",
       "      <td>-</td>\n",
       "    </tr>\n",
       "    <tr>\n",
       "      <th>9</th>\n",
       "      <td>Принятие решений в условиях риска и неопределё...</td>\n",
       "      <td>57c331c5a1b473501d86dfd23421bb5c</td>\n",
       "      <td>0.475336</td>\n",
       "      <td>-</td>\n",
       "    </tr>\n",
       "    <tr>\n",
       "      <th>10</th>\n",
       "      <td>Сбор и обработка данных с помощью краудсорсинга</td>\n",
       "      <td>1021c681cf4b273ed4905d431e4c17ce</td>\n",
       "      <td>0.008969</td>\n",
       "      <td>-</td>\n",
       "    </tr>\n",
       "    <tr>\n",
       "      <th>11</th>\n",
       "      <td>Теория баз данных</td>\n",
       "      <td>04bcb5c9d23813ffa940e1febb27fadc</td>\n",
       "      <td>0.035874</td>\n",
       "      <td>-</td>\n",
       "    </tr>\n",
       "    <tr>\n",
       "      <th>12</th>\n",
       "      <td>Язык SQL</td>\n",
       "      <td>1c1623a037bd523d687245e6060e6c5b</td>\n",
       "      <td>0.183857</td>\n",
       "      <td>-</td>\n",
       "    </tr>\n",
       "  </tbody>\n",
       "</table>\n",
       "</div>"
      ],
      "text/plain": [
       "                                              course1  \\\n",
       "0                                                 ???   \n",
       "1                         Statistical Learning Theory   \n",
       "2                   Анализ неструктурированных данных   \n",
       "3               Байесовские методы машинного обучения   \n",
       "4                    Безопасность компьютерных систем   \n",
       "5                   Высокопроизводительные вычисления   \n",
       "6                Глубинное обучение в обработке звука   \n",
       "7                                Матричные вычисления   \n",
       "8                       Моделирование временных рядов   \n",
       "9   Принятие решений в условиях риска и неопределё...   \n",
       "10    Сбор и обработка данных с помощью краудсорсинга   \n",
       "11                                  Теория баз данных   \n",
       "12                                           Язык SQL   \n",
       "\n",
       "                                  ID  percentile course2  \n",
       "0   00b40fe7dbfd23e5daba765244509415    0.536232       -  \n",
       "1   014b72217e20370dab7acc48b20c47be    0.000000       -  \n",
       "2   01b072a0cdb45814fc4ab8ca3e621f0e    0.050725       -  \n",
       "3   276e2ccf4903d4ddf856b20a2b08394e    0.014493       -  \n",
       "4   044e038535ae5d2ff037150b77fdc6d1    0.000000       -  \n",
       "5   07b6ce7fd93bde95ce5fe14a5131a960    0.007246       -  \n",
       "6   15163c0c088c0ba42e1c77c9f3eabc81    0.079710       -  \n",
       "7   081eba3952cfc116e0e9b941d6a974a2    0.004484       -  \n",
       "8   253bbe1a2021d0404712a1e4acd22939    0.107623       -  \n",
       "9   57c331c5a1b473501d86dfd23421bb5c    0.475336       -  \n",
       "10  1021c681cf4b273ed4905d431e4c17ce    0.008969       -  \n",
       "11  04bcb5c9d23813ffa940e1febb27fadc    0.035874       -  \n",
       "12  1c1623a037bd523d687245e6060e6c5b    0.183857       -  "
      ]
     },
     "execution_count": 83,
     "metadata": {},
     "output_type": "execute_result"
    }
   ],
   "source": [
    "x.groupby('course1').agg('min').reset_index()"
   ]
  },
  {
   "cell_type": "code",
   "execution_count": 88,
   "metadata": {},
   "outputs": [],
   "source": [
    "# Группировка по столбцу 'course1' и поиск минимального 'percentile' для каждой группы\n",
    "min_percentiles = x.groupby('course1')['percentile'].min()\n",
    "\n",
    "# Получение id с минимальным 'percentile' для каждого предмета\n",
    "min_ids = x.loc[x.groupby('course1')['percentile'].idxmin(), ['course1', 'ID']]"
   ]
  },
  {
   "cell_type": "code",
   "execution_count": 90,
   "metadata": {},
   "outputs": [
    {
     "data": {
      "text/html": [
       "<div>\n",
       "<style scoped>\n",
       "    .dataframe tbody tr th:only-of-type {\n",
       "        vertical-align: middle;\n",
       "    }\n",
       "\n",
       "    .dataframe tbody tr th {\n",
       "        vertical-align: top;\n",
       "    }\n",
       "\n",
       "    .dataframe thead th {\n",
       "        text-align: right;\n",
       "    }\n",
       "</style>\n",
       "<table border=\"1\" class=\"dataframe\">\n",
       "  <thead>\n",
       "    <tr style=\"text-align: right;\">\n",
       "      <th></th>\n",
       "      <th>course1</th>\n",
       "      <th>ID</th>\n",
       "      <th>percentile</th>\n",
       "    </tr>\n",
       "  </thead>\n",
       "  <tbody>\n",
       "    <tr>\n",
       "      <th>344</th>\n",
       "      <td>???</td>\n",
       "      <td>be4fa2120de3397ae21eac38ff0060e3</td>\n",
       "      <td>0.991031</td>\n",
       "    </tr>\n",
       "    <tr>\n",
       "      <th>338</th>\n",
       "      <td>Statistical Learning Theory</td>\n",
       "      <td>af20596134e83f3ca61259b325aa9688</td>\n",
       "      <td>0.973094</td>\n",
       "    </tr>\n",
       "    <tr>\n",
       "      <th>345</th>\n",
       "      <td>Анализ неструктурированных данных</td>\n",
       "      <td>d539461bf254cf8b3201cdf7990b119e</td>\n",
       "      <td>0.992754</td>\n",
       "    </tr>\n",
       "    <tr>\n",
       "      <th>314</th>\n",
       "      <td>Байесовские методы машинного обучения</td>\n",
       "      <td>98c5a2548d93f26bd4195466e93178b3</td>\n",
       "      <td>0.905797</td>\n",
       "    </tr>\n",
       "    <tr>\n",
       "      <th>72</th>\n",
       "      <td>Безопасность компьютерных систем</td>\n",
       "      <td>9d19b0d5f4fc8d7edc2258406f872c4e</td>\n",
       "      <td>0.197309</td>\n",
       "    </tr>\n",
       "    <tr>\n",
       "      <th>248</th>\n",
       "      <td>Высокопроизводительные вычисления</td>\n",
       "      <td>c7f617262a8d9350bcbba27f6d65d86a</td>\n",
       "      <td>0.708520</td>\n",
       "    </tr>\n",
       "    <tr>\n",
       "      <th>334</th>\n",
       "      <td>Глубинное обучение в обработке звука</td>\n",
       "      <td>d555d2805e1d93d4f023e57dc4c8f403</td>\n",
       "      <td>0.963768</td>\n",
       "    </tr>\n",
       "    <tr>\n",
       "      <th>229</th>\n",
       "      <td>Матричные вычисления</td>\n",
       "      <td>6388c7920a7d454d2db81430f1f231c4</td>\n",
       "      <td>0.654709</td>\n",
       "    </tr>\n",
       "    <tr>\n",
       "      <th>247</th>\n",
       "      <td>Моделирование временных рядов</td>\n",
       "      <td>59241a17fc6c01fa7d209ef20712d31c</td>\n",
       "      <td>0.704036</td>\n",
       "    </tr>\n",
       "    <tr>\n",
       "      <th>346</th>\n",
       "      <td>Принятие решений в условиях риска и неопределё...</td>\n",
       "      <td>7a21ef645ecb42198be493dd65320e78</td>\n",
       "      <td>0.995516</td>\n",
       "    </tr>\n",
       "    <tr>\n",
       "      <th>164</th>\n",
       "      <td>Сбор и обработка данных с помощью краудсорсинга</td>\n",
       "      <td>1021c681cf4b273ed4905d431e4c17ce</td>\n",
       "      <td>0.463768</td>\n",
       "    </tr>\n",
       "    <tr>\n",
       "      <th>300</th>\n",
       "      <td>Теория баз данных</td>\n",
       "      <td>72e79e6a79cb4025077b371cc6e54247</td>\n",
       "      <td>0.865471</td>\n",
       "    </tr>\n",
       "    <tr>\n",
       "      <th>250</th>\n",
       "      <td>Язык SQL</td>\n",
       "      <td>c7544f6c00a5164efdef675410d62e94</td>\n",
       "      <td>0.713004</td>\n",
       "    </tr>\n",
       "  </tbody>\n",
       "</table>\n",
       "</div>"
      ],
      "text/plain": [
       "                                               course1  \\\n",
       "344                                                ???   \n",
       "338                        Statistical Learning Theory   \n",
       "345                  Анализ неструктурированных данных   \n",
       "314              Байесовские методы машинного обучения   \n",
       "72                    Безопасность компьютерных систем   \n",
       "248                  Высокопроизводительные вычисления   \n",
       "334               Глубинное обучение в обработке звука   \n",
       "229                               Матричные вычисления   \n",
       "247                      Моделирование временных рядов   \n",
       "346  Принятие решений в условиях риска и неопределё...   \n",
       "164    Сбор и обработка данных с помощью краудсорсинга   \n",
       "300                                  Теория баз данных   \n",
       "250                                           Язык SQL   \n",
       "\n",
       "                                   ID  percentile  \n",
       "344  be4fa2120de3397ae21eac38ff0060e3    0.991031  \n",
       "338  af20596134e83f3ca61259b325aa9688    0.973094  \n",
       "345  d539461bf254cf8b3201cdf7990b119e    0.992754  \n",
       "314  98c5a2548d93f26bd4195466e93178b3    0.905797  \n",
       "72   9d19b0d5f4fc8d7edc2258406f872c4e    0.197309  \n",
       "248  c7f617262a8d9350bcbba27f6d65d86a    0.708520  \n",
       "334  d555d2805e1d93d4f023e57dc4c8f403    0.963768  \n",
       "229  6388c7920a7d454d2db81430f1f231c4    0.654709  \n",
       "247  59241a17fc6c01fa7d209ef20712d31c    0.704036  \n",
       "346  7a21ef645ecb42198be493dd65320e78    0.995516  \n",
       "164  1021c681cf4b273ed4905d431e4c17ce    0.463768  \n",
       "300  72e79e6a79cb4025077b371cc6e54247    0.865471  \n",
       "250  c7544f6c00a5164efdef675410d62e94    0.713004  "
      ]
     },
     "execution_count": 90,
     "metadata": {},
     "output_type": "execute_result"
    }
   ],
   "source": [
    "# Группировка по столбцу 'course1' и поиск минимального 'percentile' для каждой группы\n",
    "max_percentiles = x.groupby('course1')['percentile'].max()\n",
    "\n",
    "# Получение id с минимальным 'percentile' для каждого предмета\n",
    "max_ids = x.loc[x.groupby('course1')['percentile'].idxmax(), ['course1', 'ID', 'percentile']]\n",
    "max_ids"
   ]
  },
  {
   "cell_type": "code",
   "execution_count": null,
   "metadata": {},
   "outputs": [],
   "source": [
    "Безопасность компьютерных систем\n",
    "Высокопроизводительные вычисления\n",
    "Матричные вычисления\n",
    "Моделирование временных рядов\n",
    "Сбор и обработка данных с помощью краудсорсинга\n",
    "Теория баз данных\n",
    "Язык SQL"
   ]
  },
  {
   "cell_type": "markdown",
   "metadata": {
    "id": "E_fbyB9qhLu5"
   },
   "source": [
    "После распределения студентов в соответствии с первым приоритетом добавьте в свой датафрейм аналогичные признаки и запустите проверку:"
   ]
  },
  {
   "cell_type": "code",
   "execution_count": null,
   "metadata": {
    "id": "GOAzQeYehLu6"
   },
   "outputs": [],
   "source": [
    "fir_col_name =       # insert name of your new column with is_first_place as str\n",
    "last_col_name =      # insert name of your new column with is_last_place as str\n",
    "\n",
    "\n",
    "assert((df[df[fir_col_name].isna() == False][['id']].sort_values('id').reset_index(drop=True)\n",
    "        ==\n",
    "        check_df[check_df['is_first_place'].isna() == False][['id']].sort_values('id').reset_index(drop=True)\n",
    "       ).id.values).all()\n",
    "\n",
    "\n",
    "assert((df[df[last_col_name].isna() == False][['id']].sort_values('id').reset_index(drop=True)\n",
    "       == \n",
    "       check_df[check_df['is_last_place'].isna() == False][['id']].sort_values('id').reset_index(drop=True)\n",
    "      ).id.values).all()"
   ]
  },
  {
   "cell_type": "markdown",
   "metadata": {
    "id": "RO6DwNNFhLu6"
   },
   "source": [
    "#### 3. [3 балла] Проведите все три волны отбора студентов на курсы по выбору"
   ]
  },
  {
   "cell_type": "code",
   "execution_count": null,
   "metadata": {
    "id": "jn2OOrLjhLu6"
   },
   "outputs": [],
   "source": [
    "# (￣^￣)ゞ"
   ]
  },
  {
   "cell_type": "markdown",
   "metadata": {
    "id": "1xQjV9BuhLu6"
   },
   "source": [
    "**Отправьте свой файл res_fall.csv в контест (https://contest.yandex.ru/contest/40211/problems/A/) и прикрепите/укажите ниже ваш никнейм и ссылку на успешную посылку.**"
   ]
  },
  {
   "cell_type": "markdown",
   "metadata": {
    "id": "QRTbPrgbhLu6"
   },
   "source": [
    "*Дисклеймер:*\n",
    "\n",
    "Успешная посылка в контесте является **обязательным** условием получения полного балла за этот (и следующий) пункт. Если добиться успешной посылки не удастся, баллы будут выставляться на усмотрение проверяюшего. \n",
    "\n",
    "При этом ОК в контесте не гарантирует полный балл. Оценка всё равно может быть снижена в случае обнаружения неэффективностей или ошибок в коде. Если вы сдадите в AnyTask очевидно неработающий код или ноутбук без кода, но при этом в контест будет сдан корректный файл, то это будет расцениваться как плагиат."
   ]
  },
  {
   "cell_type": "markdown",
   "metadata": {
    "id": "1IkQa_gdhLu6"
   },
   "source": [
    "На всякий случай просим вас сдать вместе с ноутбуком файл res_fall.csv в anytask"
   ]
  },
  {
   "cell_type": "markdown",
   "metadata": {
    "id": "k8d711qGhLu7"
   },
   "source": [
    "**Дополнительное задание. [2 бонусных балла] Распределите таким же образом студентов еще и на весенние курсы по выбору.**\n",
    "\n",
    "Если ваш код был хорошо структурирован, то это не составит проблем. \n",
    "\n",
    "Если вы выполнили это задание, сдайте среди прочего файл res_spring.csv в таком же формате, как и res_fall.csv."
   ]
  },
  {
   "cell_type": "code",
   "execution_count": null,
   "metadata": {
    "id": "hwmusOGThLu7"
   },
   "outputs": [],
   "source": [
    "# (￣^'￣)ゞ"
   ]
  },
  {
   "cell_type": "markdown",
   "metadata": {
    "id": "It7QQZLYhLu7"
   },
   "source": [
    "**Отправьте свой файл res_spring.csv в контест (https://contest.yandex.ru/contest/40211/problems/B/) и прикрепите/укажите ниже ваш никнейм и ссылку на успешную посылку.**"
   ]
  },
  {
   "cell_type": "markdown",
   "metadata": {
    "id": "1YcouVTihLu7"
   },
   "source": [
    "На всякий случай просим вас сдать вместе с ноутбуком файл res_spring.csv в anytask"
   ]
  },
  {
   "cell_type": "markdown",
   "metadata": {
    "id": "uY_OY6inhLu7"
   },
   "source": [
    "Вставьте картинку, описывающую ваш опыт выполнения этого задания:"
   ]
  },
  {
   "cell_type": "code",
   "execution_count": null,
   "metadata": {},
   "outputs": [],
   "source": []
  },
  {
   "cell_type": "code",
   "execution_count": null,
   "metadata": {},
   "outputs": [],
   "source": []
  },
  {
   "cell_type": "code",
   "execution_count": null,
   "metadata": {},
   "outputs": [],
   "source": []
  },
  {
   "cell_type": "markdown",
   "metadata": {
    "id": "5cAR2FgphLu3"
   },
   "source": [
    "Алгоритм распределения студентов по курсам:\n",
    "1. По умолчанию на каждой дисциплине по выбору у 3 и 4 курсов может учиться 1 группа (до 30 студентов). Исключения описаны ниже. На blended-дисциплинах для четверокурсников количество мест не ограничено.\n",
    "2. Проводится первая волна отбора. Для каждой дисциплины формируется список тех, кто указал её первым приоритетом (если студент должен выбрать два курса по выбору, то для него дисциплины, которые он указал первым и вторым приоритетом, рассматриваются как дисциплины первого приоритета). Если желающих больше, чем мест, то выбирается топ по перцентилю рейтинга.\n",
    "3. На дисциплинах, где остались места после первой волны, формируются списки тех, кто выбрал их вторым приоритетом и еще не прошел на необходимое количество курсов. Места заполняются лучшими по перцентилю рейтинга студентами. После этого проводится такая же процедура для дисциплин третьего приоритета.\n",
    "4. Если студент не попал на необходимое количество курсов по итогам трёх волн, с ним связывается учебный офис и решает вопрос в индивидуальном порядке."
   ]
  },
  {
   "cell_type": "code",
   "execution_count": null,
   "metadata": {},
   "outputs": [],
   "source": [
    "df.head()"
   ]
  },
  {
   "cell_type": "code",
   "execution_count": null,
   "metadata": {},
   "outputs": [],
   "source": [
    "fall_ = np.unique(df[['fall_1', 'fall_2', 'fall_3']])\n",
    "fall_courses = dict()\n",
    "for fall in fall_:\n",
    "    fall_courses[fall] = 30\n",
    "fall_courses['Statistical Learning Theory'] = 60\n",
    "fall_courses['Высокопроизводительные вычисления'] = 60\n",
    "fall_courses['Анализ неструктурированных данных'] = len(df)\n",
    "fall_result = defaultdict(list)"
   ]
  },
  {
   "cell_type": "code",
   "execution_count": null,
   "metadata": {},
   "outputs": [],
   "source": [
    "fall_result = defaultdict(list)\n",
    "df = df.sort_values('percentile', ascending=True)\n",
    "def pzdc(row):\n",
    "    if fall_courses[row['fall_1']] > 0:\n",
    "        fall_courses[row['fall_1']] -= 1\n",
    "        fall_result[row['id']].append(row['fall_1'])\n",
    "        if row['count_corse_fall'] == 2:\n",
    "            if fall_courses[row['fall_2']] > 0 and row['fall_2'] not in fall_result[row['id']]:\n",
    "                fall_courses[row['fall_2']] -= 1\n",
    "                fall_result[row['id']].append(row['fall_2'])\n",
    "            elif fall_courses[row['fall_3']] > 0 and row['fall_3'] not in fall_result[row['id']]:\n",
    "                fall_courses[row['fall_3']] -= 1\n",
    "                fall_result[row['id']].append(row['fall_3'])\n",
    "            else:\n",
    "                fall_result[row['id']].append('???')\n",
    "        else:\n",
    "            fall_result[row['id']].append('-')\n",
    "    elif fall_courses[row['fall_2']] > 0:\n",
    "        fall_courses[row['fall_2']] -= 1\n",
    "        fall_result[row['id']].append(row['fall_2'])\n",
    "        if row['count_corse_fall'] == 2:\n",
    "            if fall_courses[row['fall_3']] > 0 and row['fall_3'] not in fall_result[row['id']]:\n",
    "                fall_courses[row['fall_3']] -= 1\n",
    "                fall_result[row['id']].append(row['fall_3'])\n",
    "            else:\n",
    "                fall_result[row['id']].append('???')\n",
    "        else:\n",
    "            fall_result[row['id']].append('-')\n",
    "    elif fall_courses[row['fall_3']] > 0:\n",
    "        fall_courses[row['fall_3']] -= 1\n",
    "        fall_result[row['id']].append(row['fall_3'])\n",
    "        if row['count_corse_fall'] == 2:\n",
    "            fall_result[row['id']].append('???')\n",
    "        else:\n",
    "            fall_result[row['id']].append('-')\n",
    "    else:\n",
    "        fall_result[row['id']].append('???')\n",
    "        if row['count_corse_fall'] == 2:\n",
    "            fall_result[row['id']].append('???')\n",
    "        else:\n",
    "            fall_result[row['id']].append('-')"
   ]
  },
  {
   "cell_type": "code",
   "execution_count": null,
   "metadata": {},
   "outputs": [],
   "source": [
    "df.apply(pzdc, axis=1)"
   ]
  },
  {
   "cell_type": "code",
   "execution_count": null,
   "metadata": {},
   "outputs": [],
   "source": [
    "x = pd.DataFrame(data=fall_result.values(), index=fall_result.keys(), columns=['course1', 'course2']).reset_index()\n",
    "\n",
    "x.columns = ['ID', 'course1', 'course2']"
   ]
  },
  {
   "cell_type": "code",
   "execution_count": null,
   "metadata": {},
   "outputs": [],
   "source": [
    "x.to_csv('res_fall.csv', index=None)"
   ]
  },
  {
   "cell_type": "code",
   "execution_count": null,
   "metadata": {},
   "outputs": [],
   "source": [
    "x"
   ]
  },
  {
   "cell_type": "code",
   "execution_count": null,
   "metadata": {},
   "outputs": [],
   "source": [
    "df.sort_values('percentile', ascending=False)"
   ]
  },
  {
   "cell_type": "code",
   "execution_count": null,
   "metadata": {},
   "outputs": [],
   "source": []
  },
  {
   "cell_type": "code",
   "execution_count": null,
   "metadata": {},
   "outputs": [],
   "source": [
    "dict_ = fall_courses.copy()"
   ]
  },
  {
   "cell_type": "code",
   "execution_count": null,
   "metadata": {},
   "outputs": [],
   "source": [
    "fall = pd.DataFrame(list(df.apply(f, season='fall', axis=1)), columns=['course_1', 'course_2'])"
   ]
  },
  {
   "cell_type": "code",
   "execution_count": null,
   "metadata": {},
   "outputs": [],
   "source": [
    "xxx = pd.concat([df['id'], fall], axis=1)\n",
    "xxx.columns = ['ID', 'course1', 'course2']"
   ]
  },
  {
   "cell_type": "code",
   "execution_count": null,
   "metadata": {},
   "outputs": [],
   "source": [
    "xxx.to_csv('res_fall.csv', index=None)"
   ]
  },
  {
   "cell_type": "code",
   "execution_count": null,
   "metadata": {},
   "outputs": [],
   "source": [
    "xxx"
   ]
  },
  {
   "cell_type": "code",
   "execution_count": null,
   "metadata": {},
   "outputs": [],
   "source": []
  },
  {
   "cell_type": "code",
   "execution_count": null,
   "metadata": {},
   "outputs": [],
   "source": []
  },
  {
   "cell_type": "code",
   "execution_count": null,
   "metadata": {},
   "outputs": [],
   "source": []
  },
  {
   "cell_type": "code",
   "execution_count": null,
   "metadata": {},
   "outputs": [],
   "source": []
  },
  {
   "cell_type": "code",
   "execution_count": null,
   "metadata": {},
   "outputs": [],
   "source": []
  },
  {
   "cell_type": "code",
   "execution_count": null,
   "metadata": {},
   "outputs": [],
   "source": []
  },
  {
   "cell_type": "code",
   "execution_count": null,
   "metadata": {},
   "outputs": [],
   "source": []
  },
  {
   "cell_type": "code",
   "execution_count": null,
   "metadata": {},
   "outputs": [],
   "source": []
  },
  {
   "cell_type": "code",
   "execution_count": null,
   "metadata": {},
   "outputs": [],
   "source": []
  },
  {
   "cell_type": "code",
   "execution_count": null,
   "metadata": {},
   "outputs": [],
   "source": []
  },
  {
   "cell_type": "code",
   "execution_count": null,
   "metadata": {},
   "outputs": [],
   "source": []
  },
  {
   "cell_type": "code",
   "execution_count": null,
   "metadata": {},
   "outputs": [],
   "source": []
  },
  {
   "cell_type": "code",
   "execution_count": null,
   "metadata": {},
   "outputs": [],
   "source": []
  },
  {
   "cell_type": "code",
   "execution_count": null,
   "metadata": {},
   "outputs": [],
   "source": []
  },
  {
   "cell_type": "code",
   "execution_count": null,
   "metadata": {},
   "outputs": [],
   "source": []
  },
  {
   "cell_type": "code",
   "execution_count": null,
   "metadata": {},
   "outputs": [],
   "source": []
  },
  {
   "cell_type": "code",
   "execution_count": null,
   "metadata": {},
   "outputs": [],
   "source": []
  },
  {
   "cell_type": "code",
   "execution_count": null,
   "metadata": {},
   "outputs": [],
   "source": []
  },
  {
   "cell_type": "code",
   "execution_count": null,
   "metadata": {},
   "outputs": [],
   "source": []
  },
  {
   "cell_type": "code",
   "execution_count": null,
   "metadata": {},
   "outputs": [],
   "source": []
  },
  {
   "cell_type": "code",
   "execution_count": null,
   "metadata": {},
   "outputs": [],
   "source": []
  },
  {
   "cell_type": "code",
   "execution_count": null,
   "metadata": {},
   "outputs": [],
   "source": []
  },
  {
   "cell_type": "code",
   "execution_count": null,
   "metadata": {},
   "outputs": [],
   "source": []
  },
  {
   "cell_type": "code",
   "execution_count": null,
   "metadata": {},
   "outputs": [],
   "source": []
  },
  {
   "cell_type": "code",
   "execution_count": null,
   "metadata": {},
   "outputs": [],
   "source": []
  },
  {
   "cell_type": "code",
   "execution_count": null,
   "metadata": {},
   "outputs": [],
   "source": []
  },
  {
   "cell_type": "code",
   "execution_count": null,
   "metadata": {},
   "outputs": [],
   "source": []
  },
  {
   "cell_type": "code",
   "execution_count": null,
   "metadata": {},
   "outputs": [],
   "source": []
  },
  {
   "cell_type": "code",
   "execution_count": null,
   "metadata": {},
   "outputs": [],
   "source": []
  },
  {
   "cell_type": "code",
   "execution_count": null,
   "metadata": {},
   "outputs": [],
   "source": []
  },
  {
   "cell_type": "code",
   "execution_count": null,
   "metadata": {},
   "outputs": [],
   "source": []
  },
  {
   "cell_type": "code",
   "execution_count": null,
   "metadata": {},
   "outputs": [],
   "source": []
  },
  {
   "cell_type": "code",
   "execution_count": null,
   "metadata": {},
   "outputs": [],
   "source": []
  },
  {
   "cell_type": "code",
   "execution_count": null,
   "metadata": {},
   "outputs": [],
   "source": []
  },
  {
   "cell_type": "code",
   "execution_count": null,
   "metadata": {},
   "outputs": [],
   "source": []
  },
  {
   "cell_type": "code",
   "execution_count": null,
   "metadata": {},
   "outputs": [],
   "source": []
  },
  {
   "cell_type": "code",
   "execution_count": null,
   "metadata": {},
   "outputs": [],
   "source": []
  },
  {
   "cell_type": "code",
   "execution_count": null,
   "metadata": {},
   "outputs": [],
   "source": []
  },
  {
   "cell_type": "code",
   "execution_count": null,
   "metadata": {},
   "outputs": [],
   "source": []
  },
  {
   "cell_type": "code",
   "execution_count": null,
   "metadata": {},
   "outputs": [],
   "source": []
  },
  {
   "cell_type": "code",
   "execution_count": null,
   "metadata": {},
   "outputs": [],
   "source": []
  },
  {
   "cell_type": "code",
   "execution_count": null,
   "metadata": {},
   "outputs": [],
   "source": []
  },
  {
   "cell_type": "code",
   "execution_count": null,
   "metadata": {
    "id": "R9_7CnSFhLu7"
   },
   "outputs": [],
   "source": []
  }
 ],
 "metadata": {
  "colab": {
   "name": "homework-practice-01-pandas.ipynb",
   "provenance": []
  },
  "kernelspec": {
   "display_name": "Python 3 (ipykernel)",
   "language": "python",
   "name": "python3"
  },
  "language_info": {
   "codemirror_mode": {
    "name": "ipython",
    "version": 3
   },
   "file_extension": ".py",
   "mimetype": "text/x-python",
   "name": "python",
   "nbconvert_exporter": "python",
   "pygments_lexer": "ipython3",
   "version": "3.9.13"
  },
  "varInspector": {
   "cols": {
    "lenName": 16,
    "lenType": 16,
    "lenVar": 40
   },
   "kernels_config": {
    "python": {
     "delete_cmd_postfix": "",
     "delete_cmd_prefix": "del ",
     "library": "var_list.py",
     "varRefreshCmd": "print(var_dic_list())"
    },
    "r": {
     "delete_cmd_postfix": ") ",
     "delete_cmd_prefix": "rm(",
     "library": "var_list.r",
     "varRefreshCmd": "cat(var_dic_list()) "
    }
   },
   "types_to_exclude": [
    "module",
    "function",
    "builtin_function_or_method",
    "instance",
    "_Feature"
   ],
   "window_display": false
  },
  "vscode": {
   "interpreter": {
    "hash": "e7370f93d1d0cde622a1f8e1c04877d8463912d04d973331ad4851f04de6915a"
   }
  }
 },
 "nbformat": 4,
 "nbformat_minor": 1
}
